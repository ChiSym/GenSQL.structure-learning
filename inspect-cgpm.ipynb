{
 "cells": [
  {
   "cell_type": "code",
   "execution_count": 1,
   "id": "9d1892f7",
   "metadata": {},
   "outputs": [],
   "source": [
    "import cgpm.utils.general as general\n",
    "import json\n",
    "import itertools\n",
    "import pandas as pd\n",
    "import yaml\n",
    "import numpy as np\n",
    "from cgpm.crosscat.state import State"
   ]
  },
  {
   "cell_type": "code",
   "execution_count": 2,
   "id": "8126d4fc",
   "metadata": {},
   "outputs": [],
   "source": [
    "import matplotlib.pyplot as plt\n",
    "import scipy"
   ]
  },
  {
   "cell_type": "code",
   "execution_count": 3,
   "id": "6d0c946e",
   "metadata": {},
   "outputs": [],
   "source": [
    "with open('data/cgpm/complete/sample.0.json') as unrefined_metadata_file:\n",
    "    unrefined_metadata = json.load(unrefined_metadata_file)\n",
    "\n",
    "with open('data/cgpm/refined/sample.0.json') as refined_metadata_file:\n",
    "    refined_metadata = json.load(refined_metadata_file)\n",
    "\n",
    "with open('data/numericalized.csv') as data_file:\n",
    "    df = pd.read_csv(data_file)"
   ]
  },
  {
   "cell_type": "code",
   "execution_count": 4,
   "id": "2e01a73f",
   "metadata": {},
   "outputs": [],
   "source": [
    "columns_transition = [i for i in range(df.shape[1])]"
   ]
  },
  {
   "cell_type": "code",
   "execution_count": 5,
   "id": "bff0e597",
   "metadata": {},
   "outputs": [],
   "source": [
    "none_to_nan = lambda x: float('nan') if x is None else x\n",
    "list_fmap = lambda f: lambda xs: list(map(f, xs))"
   ]
  },
  {
   "cell_type": "code",
   "execution_count": 6,
   "id": "4523d7f8",
   "metadata": {},
   "outputs": [],
   "source": [
    "def refine_crp_hyper_grids(state, n=30):\n",
    "    final_hyper = state.crp.hypers['alpha']\n",
    "    new_grid = np.linspace(0.80 * final_hyper, 1.2 * final_hyper, n)\n",
    "    state.crp.hyper_grids['alpha'] = new_grid\n",
    "\n",
    "def refine_view_hyper_grids(state, cols, n=30):\n",
    "    for idx, view in state.views.items():\n",
    "        final_hyper = view.crp.hypers['alpha']\n",
    "        new_grid = np.linspace(0.80 * final_hyper, 1.2 * final_hyper, n)\n",
    "        state.views[idx].crp.hyper_grids['alpha'] = new_grid\n",
    "\n",
    "def refine_dim_hyper_grids(state, cols, n=30):\n",
    "    for col in cols:\n",
    "        final_hypers = state.dim_for(col).hypers\n",
    "        for name, val in final_hypers.items():\n",
    "            new_grid = np.linspace(0.80 * val, 1.2 * val, n) \n",
    "            state.dim_for(col).hyper_grids[name] = new_grid"
   ]
  },
  {
   "cell_type": "code",
   "execution_count": 7,
   "id": "0dc98bde",
   "metadata": {},
   "outputs": [],
   "source": [
    "def have_same_hyper_grids(x, y):\n",
    "    assert x.hyper_grids.keys() == y.hyper_grids.keys()\n",
    "    return all(all(x.hyper_grids[param] == y.hyper_grids[param]) for param in x.hyper_grids.keys())"
   ]
  },
  {
   "cell_type": "code",
   "execution_count": 8,
   "id": "03732a02",
   "metadata": {},
   "outputs": [],
   "source": [
    "def have_same_crp_hyper_grids(s1, s2):\n",
    "    return have_same_hyper_grids(s1.crp, s2.crp)\n",
    "\n",
    "def have_same_view_hyper_grids(s1, s2):\n",
    "    assert s1.views.keys() == s2.views.keys()\n",
    "    return all(have_same_crp_hyper_grids(s1.views[i], s2.views[i]) for i in s1.views.keys())\n",
    "\n",
    "def have_same_dim_hyper_grids(s1, s2, cols):\n",
    "    return all(have_same_hyper_grids(s1.dim_for(col), s2.dim_for(col)) for col in cols)"
   ]
  },
  {
   "cell_type": "code",
   "execution_count": 9,
   "id": "5b42fa23",
   "metadata": {},
   "outputs": [],
   "source": [
    "def have_same_overall_hyper_grids(s1, s2, cols):\n",
    "    return all([have_same_crp_hyper_grids(s1, s2),\n",
    "                have_same_view_hyper_grids(s1, s2),\n",
    "                have_same_dim_hyper_grids(s1, s2, cols)])"
   ]
  },
  {
   "cell_type": "code",
   "execution_count": 10,
   "id": "ceaf63b1",
   "metadata": {},
   "outputs": [],
   "source": [
    "unrefined_metadata['X'] = list_fmap(list_fmap(none_to_nan))(unrefined_metadata['X'])\n",
    "refined_metadata['X'] = list_fmap(list_fmap(none_to_nan))(refined_metadata['X'])"
   ]
  },
  {
   "cell_type": "code",
   "execution_count": 16,
   "id": "8cf44ea0",
   "metadata": {},
   "outputs": [],
   "source": [
    "unrefined_model = State.from_metadata(unrefined_metadata)\n",
    "refined_model = State.from_metadata(refined_metadata)"
   ]
  },
  {
   "cell_type": "code",
   "execution_count": 12,
   "id": "87cd29df",
   "metadata": {},
   "outputs": [
    {
     "data": {
      "text/plain": [
       "True"
      ]
     },
     "execution_count": 12,
     "metadata": {},
     "output_type": "execute_result"
    }
   ],
   "source": [
    "have_same_overall_hyper_grids(unrefined_model, refined_model, columns_transition)"
   ]
  },
  {
   "cell_type": "code",
   "execution_count": 12,
   "id": "f9770d19",
   "metadata": {},
   "outputs": [
    {
     "data": {
      "text/plain": [
       "{'alpha': array([0.125     , 0.14427533, 0.16652297, 0.19220125, 0.2218392 ,\n",
       "        0.25604739, 0.29553058, 0.34110218, 0.39370104, 0.45441078,\n",
       "        0.52448213, 0.60535866, 0.69870657, 0.80644898, 0.93080555,\n",
       "        1.07433824, 1.24000405, 1.43121596, 1.65191326, 1.90664266,\n",
       "        2.20065202, 2.5399984 , 2.93167289, 3.38374462, 3.90552702,\n",
       "        4.50776964, 5.20287968, 6.00517753, 6.93119183, 8.        ])}"
      ]
     },
     "execution_count": 12,
     "metadata": {},
     "output_type": "execute_result"
    }
   ],
   "source": [
    "unrefined_model.crp.hyper_grids"
   ]
  },
  {
   "cell_type": "code",
   "execution_count": 13,
   "id": "538f12ed",
   "metadata": {},
   "outputs": [
    {
     "data": {
      "text/plain": [
       "{'alpha': array([0.48428693, 0.49263671, 0.50098648, 0.50933625, 0.51768603,\n",
       "        0.5260358 , 0.53438558, 0.54273535, 0.55108513, 0.5594349 ,\n",
       "        0.56778468, 0.57613445, 0.58448423, 0.592834  , 0.60118378,\n",
       "        0.60953355, 0.61788332, 0.6262331 , 0.63458287, 0.64293265,\n",
       "        0.65128242, 0.6596322 , 0.66798197, 0.67633175, 0.68468152,\n",
       "        0.6930313 , 0.70138107, 0.70973085, 0.71808062, 0.7264304 ])}"
      ]
     },
     "execution_count": 13,
     "metadata": {},
     "output_type": "execute_result"
    }
   ],
   "source": [
    "refine_crp_hyper_grids(unrefined_model)\n",
    "unrefined_model.crp.hyper_grids"
   ]
  },
  {
   "cell_type": "code",
   "execution_count": 14,
   "id": "1d65b2ab",
   "metadata": {},
   "outputs": [
    {
     "data": {
      "text/plain": [
       "({'alpha': 0.7264303955770383}, {'alpha': 0.6053586629808653})"
      ]
     },
     "execution_count": 14,
     "metadata": {},
     "output_type": "execute_result"
    }
   ],
   "source": [
    "refined_model.crp.hypers, unrefined_model.crp.hypers"
   ]
  },
  {
   "cell_type": "code",
   "execution_count": 13,
   "id": "d7e44dbb",
   "metadata": {},
   "outputs": [
    {
     "data": {
      "text/plain": [
       "({'alpha': 6.512606487791107}, {'alpha': 7.047223438281422})"
      ]
     },
     "execution_count": 13,
     "metadata": {},
     "output_type": "execute_result"
    }
   ],
   "source": [
    "refined_model.views[2].crp.hypers, unrefined_model.views[2].crp.hypers"
   ]
  },
  {
   "cell_type": "code",
   "execution_count": 18,
   "id": "676a3dc6",
   "metadata": {},
   "outputs": [
    {
     "data": {
      "text/plain": [
       "{'m': array([-19.176752  , -17.73092103, -16.28509007, -14.8392591 ,\n",
       "        -13.39342814, -11.94759717, -10.50176621,  -9.05593524,\n",
       "         -7.61010428,  -6.16427331,  -4.71844234,  -3.27261138,\n",
       "         -1.82678041,  -0.38094945,   1.06488152,   2.51071248,\n",
       "          3.95654345,   5.40237441,   6.84820538,   8.29403634,\n",
       "          9.73986731,  11.18569828,  12.63152924,  14.07736021,\n",
       "         15.52319117,  16.96902214,  18.4148531 ,  19.86068407,\n",
       "         21.30651503,  22.752346  ]),\n",
       " 'r': array([3.06654400e-04, 5.35734058e-04, 9.35942808e-04, 1.63511901e-03,\n",
       "        2.85659993e-03, 4.99056224e-03, 8.71865578e-03, 1.52317424e-02,\n",
       "        2.66102921e-02, 4.64889457e-02, 8.12175252e-02, 1.41889353e-01,\n",
       "        2.47884780e-01, 4.33061841e-01, 7.56571491e-01, 1.32175216e+00,\n",
       "        2.30913903e+00, 4.03413231e+00, 7.04774517e+00, 1.23126135e+01,\n",
       "        2.15104900e+01, 3.75794447e+01, 6.56523707e+01, 1.14696580e+02,\n",
       "        2.00378224e+02, 3.50066521e+02, 6.11576281e+02, 1.06844135e+03,\n",
       "        1.86659777e+03, 3.26100000e+03]),\n",
       " 's': array([  4151.27467719,   4865.71858683,   5703.11993477,   6684.63997866,\n",
       "          7835.08187717,   9183.51746959,  10764.02192555,  12616.53482964,\n",
       "         14787.86946073,  17332.89577054,  20315.92695556,  23812.34466114,\n",
       "         27910.50388698,  32713.96573124,  38344.11439502,  44943.22457929,\n",
       "         52678.05678795,  61744.07139076,  72370.36793618,  84825.47453134,\n",
       "         99424.13358755, 116535.25540824, 136591.24060765, 160098.90693918,\n",
       "        187652.29665601, 219947.68804794, 257801.19049817, 302169.36768977,\n",
       "        354173.41011342, 415127.46771921]),\n",
       " 'nu': array([1.00000000e+00, 1.32175216e+00, 1.74702876e+00, 2.30913903e+00,\n",
       "        3.05210950e+00, 4.03413231e+00, 5.33212308e+00, 7.04774517e+00,\n",
       "        9.31537238e+00, 1.23126135e+01, 1.62742235e+01, 2.15104900e+01,\n",
       "        2.84315365e+01, 3.75794447e+01, 4.96707120e+01, 6.56523707e+01,\n",
       "        8.67761626e+01, 1.14696580e+02, 1.51600452e+02, 2.00378224e+02,\n",
       "        2.64850350e+02, 3.50066521e+02, 4.62701179e+02, 6.11576281e+02,\n",
       "        8.08352268e+02, 1.06844135e+03, 1.41221466e+03, 1.86659777e+03,\n",
       "        2.46717963e+03, 3.26100000e+03])}"
      ]
     },
     "execution_count": 18,
     "metadata": {},
     "output_type": "execute_result"
    }
   ],
   "source": [
    "unrefined_model.dim_for(0).hyper_grids"
   ]
  },
  {
   "cell_type": "code",
   "execution_count": 14,
   "id": "dfa32800",
   "metadata": {},
   "outputs": [
    {
     "data": {
      "text/plain": [
       "[({'m': -0.30475955862069104,\n",
       "   'r': 0.007936983193753711,\n",
       "   's': 4641.159671057538,\n",
       "   'nu': 2698.7586206896544},\n",
       "  {'m': -0.38094944827586374,\n",
       "   'r': 0.008718655781017333,\n",
       "   's': 5703.119934774092,\n",
       "   'nu': 3260.9999999999986}),\n",
       " ({'m': -5.872746993103453,\n",
       "   'r': 0.009380071047163475,\n",
       "   's': 3813.033939595385,\n",
       "   'nu': 3148.55172413793},\n",
       "  {'m': -4.893955827586211,\n",
       "   'r': 0.008718655781017333,\n",
       "   's': 4531.884600338777,\n",
       "   'nu': 3260.9999999999986}),\n",
       " ({'m': 1.4015334411414921,\n",
       "   'r': 0.008899041762693554,\n",
       "   's': 6111.433900882905,\n",
       "   'nu': 3913.199999999998},\n",
       "  {'m': 1.4515882068965453,\n",
       "   'r': 0.008718655781017333,\n",
       "   's': 7639.292376103631,\n",
       "   'nu': 3260.9999999999986}),\n",
       " ({'m': 0.8342219738406658,\n",
       "   'r': 0.00781672587263623,\n",
       "   's': 4450.417888370231,\n",
       "   'nu': 3913.199999999998},\n",
       "  {'m': 0.8173120689655171,\n",
       "   'r': 0.008718655781017333,\n",
       "   's': 5563.022360462788,\n",
       "   'nu': 3260.9999999999986}),\n",
       " ({'m': 5.009542223067777,\n",
       "   'r': 0.008538269799341112,\n",
       "   's': 7135.774433685934,\n",
       "   'nu': 3913.199999999998},\n",
       "  {'m': 4.778839620689656,\n",
       "   'r': 0.008718655781017333,\n",
       "   's': 8919.718042107417,\n",
       "   'nu': 3260.9999999999986}),\n",
       " ({'alpha': 0.8}, {'alpha': 1.0}),\n",
       " ({'alpha': 0.8}, {'alpha': 1.0}),\n",
       " ({'alpha': 0.8}, {'alpha': 1.0})]"
      ]
     },
     "execution_count": 14,
     "metadata": {},
     "output_type": "execute_result"
    }
   ],
   "source": [
    "[(refined_model.dim_for(c).hypers, unrefined_model.dim_for(c).hypers) for c in columns_transition]"
   ]
  },
  {
   "cell_type": "code",
   "execution_count": 13,
   "id": "e8f963b3",
   "metadata": {},
   "outputs": [],
   "source": [
    "refine_crp_hyper_grids(refined_model)   \n",
    "refine_view_hyper_grids(refined_model, columns_transition)\n",
    "refine_dim_hyper_grids(refined_model, columns_transition)"
   ]
  },
  {
   "cell_type": "code",
   "execution_count": 14,
   "id": "3ba9f7f4",
   "metadata": {},
   "outputs": [
    {
     "data": {
      "text/plain": [
       "False"
      ]
     },
     "execution_count": 14,
     "metadata": {},
     "output_type": "execute_result"
    }
   ],
   "source": [
    "have_same_overall_hyper_grids(unrefined_model, refined_model, columns_transition)"
   ]
  },
  {
   "cell_type": "code",
   "execution_count": 15,
   "id": "7189662b",
   "metadata": {},
   "outputs": [],
   "source": [
    "refined_model.transition_crp_alpha()"
   ]
  },
  {
   "cell_type": "code",
   "execution_count": 16,
   "id": "07149b13",
   "metadata": {},
   "outputs": [
    {
     "data": {
      "text/plain": [
       "False"
      ]
     },
     "execution_count": 16,
     "metadata": {},
     "output_type": "execute_result"
    }
   ],
   "source": [
    "have_same_crp_hyper_grids(refined_model, unrefined_model)"
   ]
  },
  {
   "cell_type": "code",
   "execution_count": 18,
   "id": "d19d4be9",
   "metadata": {},
   "outputs": [
    {
     "data": {
      "text/plain": [
       "(array([0.58114432, 0.59116405, 0.60118378, 0.61120351, 0.62122323,\n",
       "        0.63124296, 0.64126269, 0.65128242, 0.66130215, 0.67132188,\n",
       "        0.68134161, 0.69136134, 0.70138107, 0.7114008 , 0.72142053,\n",
       "        0.73144026, 0.74145999, 0.75147972, 0.76149945, 0.77151918,\n",
       "        0.78153891, 0.79155864, 0.80157837, 0.8115981 , 0.82161783,\n",
       "        0.83163756, 0.84165729, 0.85167702, 0.86169675, 0.87171647]),\n",
       " array([0.125     , 0.14427533, 0.16652297, 0.19220125, 0.2218392 ,\n",
       "        0.25604739, 0.29553058, 0.34110218, 0.39370104, 0.45441078,\n",
       "        0.52448213, 0.60535866, 0.69870657, 0.80644898, 0.93080555,\n",
       "        1.07433824, 1.24000405, 1.43121596, 1.65191326, 1.90664266,\n",
       "        2.20065202, 2.5399984 , 2.93167289, 3.38374462, 3.90552702,\n",
       "        4.50776964, 5.20287968, 6.00517753, 6.93119183, 8.        ]))"
      ]
     },
     "execution_count": 18,
     "metadata": {},
     "output_type": "execute_result"
    }
   ],
   "source": [
    "refined_model.crp.hyper_grids['alpha'], unrefined_model.crp.hyper_grids['alpha']"
   ]
  },
  {
   "cell_type": "code",
   "execution_count": 19,
   "id": "1212fae1",
   "metadata": {},
   "outputs": [],
   "source": [
    "refined_model.transition_view_alphas(views=None, cols=columns_transition)"
   ]
  },
  {
   "cell_type": "code",
   "execution_count": 20,
   "id": "6259dc15",
   "metadata": {},
   "outputs": [
    {
     "data": {
      "text/plain": [
       "False"
      ]
     },
     "execution_count": 20,
     "metadata": {},
     "output_type": "execute_result"
    }
   ],
   "source": [
    "have_same_overall_hyper_grids(unrefined_model, refined_model, columns_transition)"
   ]
  },
  {
   "cell_type": "code",
   "execution_count": 21,
   "id": "49e9ed1e",
   "metadata": {},
   "outputs": [],
   "source": [
    "refined_model.transition_dim_hypers(cols=columns_transition)"
   ]
  },
  {
   "cell_type": "code",
   "execution_count": 22,
   "id": "2111c0c5",
   "metadata": {},
   "outputs": [
    {
     "data": {
      "text/plain": [
       "False"
      ]
     },
     "execution_count": 22,
     "metadata": {},
     "output_type": "execute_result"
    }
   ],
   "source": [
    "have_same_overall_hyper_grids(unrefined_model, refined_model, columns_transition)"
   ]
  },
  {
   "cell_type": "code",
   "execution_count": 23,
   "id": "479f58f7",
   "metadata": {},
   "outputs": [],
   "source": [
    "refined_model.transition_view_rows(views=None, cols=columns_transition, rows=None)"
   ]
  },
  {
   "cell_type": "code",
   "execution_count": 24,
   "id": "48f3845d",
   "metadata": {},
   "outputs": [
    {
     "data": {
      "text/plain": [
       "False"
      ]
     },
     "execution_count": 24,
     "metadata": {},
     "output_type": "execute_result"
    }
   ],
   "source": [
    "have_same_overall_hyper_grids(unrefined_model, refined_model, columns_transition)"
   ]
  },
  {
   "cell_type": "code",
   "execution_count": 25,
   "id": "2f6109b1",
   "metadata": {},
   "outputs": [],
   "source": [
    "refined_model.transition_dims(cols=columns_transition)"
   ]
  },
  {
   "cell_type": "code",
   "execution_count": 26,
   "id": "0c448215",
   "metadata": {},
   "outputs": [
    {
     "data": {
      "text/plain": [
       "False"
      ]
     },
     "execution_count": 26,
     "metadata": {},
     "output_type": "execute_result"
    }
   ],
   "source": [
    "have_same_overall_hyper_grids(unrefined_model, refined_model, columns_transition)"
   ]
  },
  {
   "cell_type": "code",
   "execution_count": 13,
   "id": "f88ca47e",
   "metadata": {},
   "outputs": [],
   "source": [
    "# refine_dim_hyper_grids(unrefined_model, columns_transition)"
   ]
  },
  {
   "cell_type": "code",
   "execution_count": 14,
   "id": "8209a7db",
   "metadata": {},
   "outputs": [],
   "source": [
    "# dim = unrefined_model.dim_for(0)\n",
    "# hyper = 'r'\n",
    "# logps = []\n",
    "# for grid_value in dim.hyper_grids[hyper]:\n",
    "#     # Compute the probability of the grid point.\n",
    "#     dim.hypers[hyper] = grid_value\n",
    "#     logp_k = 0\n",
    "#     for k in dim.clusters:\n",
    "#         dim.clusters[k].set_hypers(dim.hypers)\n",
    "#         logp_k += dim.clusters[k].logpdf_score()\n",
    "#     logps.append(logp_k)"
   ]
  },
  {
   "cell_type": "code",
   "execution_count": 15,
   "id": "1f9688e7",
   "metadata": {},
   "outputs": [
    {
     "data": {
      "text/plain": [
       "[<matplotlib.lines.Line2D at 0x7fff37462550>]"
      ]
     },
     "execution_count": 15,
     "metadata": {},
     "output_type": "execute_result"
    },
    {
     "data": {
      "image/png": "[encoded data removed]",
      "text/plain": [
       "<Figure size 432x288 with 1 Axes>"
      ]
     },
     "metadata": {
      "needs_background": "light"
     },
     "output_type": "display_data"
    }
   ],
   "source": [
    "# ps = np.exp(np.array(logps) - scipy.special.logsumexp(logps))\n",
    "# plt.plot(ps)"
   ]
  },
  {
   "cell_type": "code",
   "execution_count": 15,
   "id": "da93750a",
   "metadata": {},
   "outputs": [
    {
     "data": {
      "text/plain": [
       "[0, 1, 2, 3, 4, 5, 6, 7]"
      ]
     },
     "execution_count": 15,
     "metadata": {},
     "output_type": "execute_result"
    }
   ],
   "source": [
    "columns_transition"
   ]
  },
  {
   "cell_type": "code",
   "execution_count": 12,
   "id": "2118d073",
   "metadata": {},
   "outputs": [],
   "source": [
    "refine_dim_hyper_grids(unrefined_model, columns_transition)"
   ]
  },
  {
   "cell_type": "code",
   "execution_count": 15,
   "id": "fbd71390",
   "metadata": {},
   "outputs": [
    {
     "data": {
      "image/png": "[encoded data removed]",
      "text/plain": [
       "<Figure size 432x288 with 1 Axes>"
      ]
     },
     "metadata": {
      "needs_background": "light"
     },
     "output_type": "display_data"
    }
   ],
   "source": [
    "for i in columns_transition[:-3]: \n",
    "    dim = unrefined_model.dim_for(i)\n",
    "    hyper = 's'\n",
    "    logps = []\n",
    "    for grid_value in dim.hyper_grids[hyper]:\n",
    "        # Compute the probability of the grid point.\n",
    "        dim.hypers[hyper] = grid_value\n",
    "        logp_k = 0\n",
    "        for k in dim.clusters:\n",
    "            dim.clusters[k].set_hypers(dim.hypers)\n",
    "            logp_k += dim.clusters[k].logpdf_score()\n",
    "        logps.append(logp_k)\n",
    "    ps = np.exp(np.array(logps) - scipy.special.logsumexp(logps))\n",
    "    plt.scatter(range(len(ps)), ps)"
   ]
  },
  {
   "cell_type": "code",
   "execution_count": 19,
   "id": "4e944805",
   "metadata": {},
   "outputs": [
    {
     "data": {
      "image/png": "[encoded data removed]",
      "text/plain": [
       "<Figure size 432x288 with 1 Axes>"
      ]
     },
     "metadata": {
      "needs_background": "light"
     },
     "output_type": "display_data"
    }
   ],
   "source": [
    "all_ps = []\n",
    "for i in columns_transition[:-3]: \n",
    "    dim = unrefined_model.dim_for(i)\n",
    "    hypers = 's'\n",
    "    logps = []\n",
    "    for grid_value in dim.hyper_grids[hyper]:\n",
    "        # Compute the probability of the grid point.\n",
    "        dim.hypers[hyper] = grid_value\n",
    "        logp_k = 0\n",
    "        for k in dim.clusters:\n",
    "            dim.clusters[k].set_hypers(dim.hypers)\n",
    "            logp_k += dim.clusters[k].logpdf_score()\n",
    "        logps.append(logp_k)\n",
    "    ps = np.exp(np.array(logps) - scipy.special.logsumexp(logps))\n",
    "    all_ps.append(ps)\n",
    "    plt.scatter(range(len(ps)), ps)"
   ]
  },
  {
   "cell_type": "code",
   "execution_count": 23,
   "id": "00d06909",
   "metadata": {},
   "outputs": [
    {
     "data": {
      "text/plain": [
       "<matplotlib.collections.PathCollection at 0x7fff36275cd0>"
      ]
     },
     "execution_count": 23,
     "metadata": {},
     "output_type": "execute_result"
    },
    {
     "data": {
      "image/png": "[encoded data removed]",
      "text/plain": [
       "<Figure size 432x288 with 1 Axes>"
      ]
     },
     "metadata": {
      "needs_background": "light"
     },
     "output_type": "display_data"
    }
   ],
   "source": [
    "plt.scatter(range(len(ps)), all_ps[2])"
   ]
  },
  {
   "cell_type": "code",
   "execution_count": 24,
   "id": "19786e74",
   "metadata": {},
   "outputs": [
    {
     "data": {
      "text/plain": [
       "[array([1.30413394e-022, 5.68704401e-003, 9.94312956e-001, 8.30236957e-014,\n",
       "        2.51092750e-040, 1.34720121e-078, 4.14344109e-127, 1.59867978e-184,\n",
       "        1.18123871e-249, 1.83792420e-321, 0.00000000e+000, 0.00000000e+000,\n",
       "        0.00000000e+000, 0.00000000e+000, 0.00000000e+000, 0.00000000e+000,\n",
       "        0.00000000e+000, 0.00000000e+000, 0.00000000e+000, 0.00000000e+000,\n",
       "        0.00000000e+000, 0.00000000e+000, 0.00000000e+000, 0.00000000e+000,\n",
       "        0.00000000e+000, 0.00000000e+000, 0.00000000e+000, 0.00000000e+000,\n",
       "        0.00000000e+000, 0.00000000e+000]),\n",
       " array([1.00000000e+000, 4.29377274e-016, 8.35873087e-045, 3.98811117e-085,\n",
       "        1.59124375e-135, 1.18875976e-194, 2.54047517e-261, 0.00000000e+000,\n",
       "        0.00000000e+000, 0.00000000e+000, 0.00000000e+000, 0.00000000e+000,\n",
       "        0.00000000e+000, 0.00000000e+000, 0.00000000e+000, 0.00000000e+000,\n",
       "        0.00000000e+000, 0.00000000e+000, 0.00000000e+000, 0.00000000e+000,\n",
       "        0.00000000e+000, 0.00000000e+000, 0.00000000e+000, 0.00000000e+000,\n",
       "        0.00000000e+000, 0.00000000e+000, 0.00000000e+000, 0.00000000e+000,\n",
       "        0.00000000e+000, 0.00000000e+000]),\n",
       " array([1.00000000e+000, 3.25822790e-061, 6.27095053e-129, 6.52801649e-203,\n",
       "        2.57123016e-282, 0.00000000e+000, 0.00000000e+000, 0.00000000e+000,\n",
       "        0.00000000e+000, 0.00000000e+000, 0.00000000e+000, 0.00000000e+000,\n",
       "        0.00000000e+000, 0.00000000e+000, 0.00000000e+000, 0.00000000e+000,\n",
       "        0.00000000e+000, 0.00000000e+000, 0.00000000e+000, 0.00000000e+000,\n",
       "        0.00000000e+000, 0.00000000e+000, 0.00000000e+000, 0.00000000e+000,\n",
       "        0.00000000e+000, 0.00000000e+000, 0.00000000e+000, 0.00000000e+000,\n",
       "        0.00000000e+000, 0.00000000e+000]),\n",
       " array([1.00000000e+000, 1.60872784e-056, 3.08024968e-120, 8.14971900e-191,\n",
       "        2.55244444e-267, 0.00000000e+000, 0.00000000e+000, 0.00000000e+000,\n",
       "        0.00000000e+000, 0.00000000e+000, 0.00000000e+000, 0.00000000e+000,\n",
       "        0.00000000e+000, 0.00000000e+000, 0.00000000e+000, 0.00000000e+000,\n",
       "        0.00000000e+000, 0.00000000e+000, 0.00000000e+000, 0.00000000e+000,\n",
       "        0.00000000e+000, 0.00000000e+000, 0.00000000e+000, 0.00000000e+000,\n",
       "        0.00000000e+000, 0.00000000e+000, 0.00000000e+000, 0.00000000e+000,\n",
       "        0.00000000e+000, 0.00000000e+000]),\n",
       " array([1.00000000e+000, 4.76954822e-072, 3.26102188e-149, 2.05589105e-231,\n",
       "        6.02359401e-318, 0.00000000e+000, 0.00000000e+000, 0.00000000e+000,\n",
       "        0.00000000e+000, 0.00000000e+000, 0.00000000e+000, 0.00000000e+000,\n",
       "        0.00000000e+000, 0.00000000e+000, 0.00000000e+000, 0.00000000e+000,\n",
       "        0.00000000e+000, 0.00000000e+000, 0.00000000e+000, 0.00000000e+000,\n",
       "        0.00000000e+000, 0.00000000e+000, 0.00000000e+000, 0.00000000e+000,\n",
       "        0.00000000e+000, 0.00000000e+000, 0.00000000e+000, 0.00000000e+000,\n",
       "        0.00000000e+000, 0.00000000e+000])]"
      ]
     },
     "execution_count": 24,
     "metadata": {},
     "output_type": "execute_result"
    }
   ],
   "source": [
    "all_ps"
   ]
  },
  {
   "cell_type": "code",
   "execution_count": null,
   "id": "4955a25d",
   "metadata": {},
   "outputs": [],
   "source": []
  }
 ],
 "metadata": {
  "kernelspec": {
   "display_name": "Python 3 (ipykernel)",
   "language": "python",
   "name": "python3"
  },
  "language_info": {
   "codemirror_mode": {
    "name": "ipython",
    "version": 3
   },
   "file_extension": ".py",
   "mimetype": "text/x-python",
   "name": "python",
   "nbconvert_exporter": "python",
   "pygments_lexer": "ipython3",
   "version": "3.9.13"
  }
 },
 "nbformat": 4,
 "nbformat_minor": 5
}
