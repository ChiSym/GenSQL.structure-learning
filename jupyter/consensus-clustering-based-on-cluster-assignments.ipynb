{
 "cells": [
  {
   "cell_type": "markdown",
   "id": "18fc9856",
   "metadata": {},
   "source": [
    "# Goal of this notebook\n",
    "For each row, compute a vector of cluster assigments (`Pr[view_cluster = x | row, model)]` for each model in an ensemble. This creates a long vector for each row.\n",
    "\n",
    "Use hierarchical clustering on these vectors to cluster the rows.\n"
   ]
  },
  {
   "cell_type": "code",
   "execution_count": 1,
   "id": "ef45ac34",
   "metadata": {},
   "outputs": [],
   "source": [
    "import edn_format\n",
    "import itertools\n",
    "import json\n",
    "import matplotlib.pyplot as plt\n",
    "import numpy as np\n",
    "import pandas as pd\n",
    "import sppl.compilers.spe_to_dict as spe_to_dict\n",
    "\n",
    "from multiprocessing import Pool\n",
    "from scipy.cluster.hierarchy import dendrogram, linkage\n",
    "from sppl.transforms import Identity as I"
   ]
  },
  {
   "cell_type": "code",
   "execution_count": 2,
   "id": "c95bdf72",
   "metadata": {},
   "outputs": [],
   "source": [
    "# Load ensemble.\n",
    "with open(\"../data/sppl/merged.json\", \"r\") as f:\n",
    "    ensemble = spe_to_dict.spe_from_dict(json.load(f))\n",
    "# Record the number of models in the ensemble.\n",
    "n_models = len(ensemble.children)"
   ]
  },
  {
   "cell_type": "code",
   "execution_count": 3,
   "id": "f06a9db1",
   "metadata": {},
   "outputs": [],
   "source": [
    "# Load probability of dependence. We'll use this to tune number\n",
    "with open(\"../data/dep-prob.json\", \"r\") as f:\n",
    "    dep_prob = json.load(f)"
   ]
  },
  {
   "cell_type": "code",
   "execution_count": 4,
   "id": "b1f15fe9",
   "metadata": {},
   "outputs": [],
   "source": [
    "# Load ASTs to look up the context of a variable.\n",
    "def get_ast(i):\n",
    "    \"\"\"Reads i-th AST from disk.\"\"\"\n",
    "    with open(f\"../data/ast/sample.{i}.edn\", \"r\") as f:\n",
    "        ast = edn_format.loads(f.read())\n",
    "    return ast\n",
    "asts = [get_ast(i) for i in range(n_models)]"
   ]
  },
  {
   "cell_type": "code",
   "execution_count": 7,
   "id": "4af24b1b",
   "metadata": {},
   "outputs": [],
   "source": [
    "def predictors(m, context):\n",
    "    \"\"\"Find the top m dependent columns for a context variable\"\"\"\n",
    "    return [k for k,v in sorted(dep_prob[context].items(), key=lambda item: item[1])][0:m]"
   ]
  },
  {
   "cell_type": "code",
   "execution_count": 10,
   "id": "bed8f6e5",
   "metadata": {},
   "outputs": [],
   "source": [
    "n = 1000\n",
    "context = \"vaccination_status\"\n",
    "covariates = predictors(5, context)"
   ]
  },
  {
   "cell_type": "code",
   "execution_count": 11,
   "id": "ab93fca4",
   "metadata": {},
   "outputs": [],
   "source": [
    "# Generate a bunch of synthetic data rows\n",
    "rows = ensemble.sample_subset([I(c) for c in covariates], n)"
   ]
  },
  {
   "cell_type": "code",
   "execution_count": 19,
   "id": "9cfd6870",
   "metadata": {},
   "outputs": [],
   "source": [
    "def get_view(model_index, context):\n",
    "    \"\"\"Get the view-ID for the `context` variable\"\"\"\n",
    "    for vid, v in enumerate(asts[model_index][edn_format.Keyword(\"multimixture/views\")]):\n",
    "        if context in dict(v[edn_format.Keyword(\"view/clusters\")][0][edn_format.Keyword(\"cluster/column->distribution\")]).keys():\n",
    "            length = len(v[edn_format.Keyword(\"view/clusters\")])\n",
    "            return vid, length\n"
   ]
  },
  {
   "cell_type": "code",
   "execution_count": 24,
   "id": "e365325e",
   "metadata": {},
   "outputs": [],
   "source": [
    "def prep_models(context):\n",
    "    \"\"\"Prepare models to create a vector of cluster assignments.\"\"\"\n",
    "    models = []\n",
    "    for model_index in range(n_models):\n",
    "        vid, length = get_view(model_index, context)\n",
    "        cluster_models = []\n",
    "        for cid in range(length):\n",
    "            # Take only the first 10 clusters to save time.\n",
    "            if cid < 10:\n",
    "                try:\n",
    "                    cluster_models.append(ensemble.children[model_index].constrain({I(f\"view_{vid}_cluster\"):str(cid)}))\n",
    "                except:\n",
    "                    # Print when the probability of the above is zero. Not sure why that happens\n",
    "                    print(f\"Problem occurred when conditioning model {model_index}, view {vid} = {cid}\")\n",
    "        models.extend(cluster_models)\n",
    "    return models"
   ]
  },
  {
   "cell_type": "code",
   "execution_count": 25,
   "id": "03a24b1d",
   "metadata": {},
   "outputs": [
    {
     "name": "stdout",
     "output_type": "stream",
     "text": [
      "Problem occurred when conditioning model 3, view 1 = 2\n",
      "Problem occurred when conditioning model 3, view 1 = 3\n",
      "Problem occurred when conditioning model 3, view 1 = 4\n",
      "Problem occurred when conditioning model 3, view 1 = 5\n",
      "Problem occurred when conditioning model 3, view 1 = 6\n",
      "Problem occurred when conditioning model 3, view 1 = 7\n",
      "Problem occurred when conditioning model 3, view 1 = 8\n",
      "Problem occurred when conditioning model 3, view 1 = 9\n"
     ]
    }
   ],
   "source": [
    "models = prep_models(context)"
   ]
  },
  {
   "cell_type": "code",
   "execution_count": 27,
   "id": "50e7c4c3",
   "metadata": {},
   "outputs": [],
   "source": [
    "def get_p(model_index):\n",
    "    \"\"\"Score a row for a particular cluster\"\"\"\n",
    "    cluster_model = models[model_index]\n",
    "    return [\n",
    "        cluster_model.logpdf(row)\n",
    "        for row in rows        \n",
    "    ]"
   ]
  },
  {
   "cell_type": "code",
   "execution_count": 29,
   "id": "9a89d587",
   "metadata": {},
   "outputs": [],
   "source": [
    "# Parallelize the scoring.\n",
    "with Pool() as P:\n",
    "    data = list(P.map(get_p, range(len(models))))"
   ]
  },
  {
   "cell_type": "code",
   "execution_count": 30,
   "id": "0c8d8908",
   "metadata": {},
   "outputs": [],
   "source": [
    "# Process the data for the hierarchical clustering.\n",
    "linkage_data_input = []\n",
    "for rowid in range(len(data[0])):\n",
    "    r_t = []\n",
    "    for md in range(len(data)):\n",
    "        r_t.append(data[md][rowid])\n",
    "    linkage_data_input.append(tuple(r_t))"
   ]
  },
  {
   "cell_type": "code",
   "execution_count": 31,
   "id": "a5afa1f7",
   "metadata": {},
   "outputs": [
    {
     "data": {
      "text/plain": [
       "[]"
      ]
     },
     "execution_count": 31,
     "metadata": {},
     "output_type": "execute_result"
    },
    {
     "data": {
      "image/png": "[encoded data removed]",
      "text/plain": [
       "<Figure size 432x288 with 1 Axes>"
      ]
     },
     "metadata": {
      "needs_background": "light"
     },
     "output_type": "display_data"
    }
   ],
   "source": [
    "linkage_data = linkage(linkage_data_input, method='centroid', metric='euclidean')\n",
    "dendrogram(linkage_data)\n",
    "ax = plt.gca()\n",
    "ax.set_xticks([])"
   ]
  },
  {
   "cell_type": "code",
   "execution_count": 32,
   "id": "2c16d085",
   "metadata": {},
   "outputs": [],
   "source": [
    "def extract_clusters(linkage_matrix, level_from_top):\n",
    "    level = linkage_data.shape[0] - level_from_top\n",
    "    # Initial clusters\n",
    "    clusters = {i: [i] for i in range(linkage_matrix.shape[0] + 1)}\n",
    "\n",
    "    # Go through the first \"level\" merges\n",
    "    for i in range(level):\n",
    "        merged_clusters = clusters.pop(linkage_matrix[i, 0])\n",
    "        merged_clusters.extend(clusters.pop(linkage_matrix[i, 1]))\n",
    "        clusters[linkage_matrix.shape[0] + 1 + i] = merged_clusters\n",
    "\n",
    "    return clusters"
   ]
  },
  {
   "cell_type": "code",
   "execution_count": 33,
   "id": "2adf8bec",
   "metadata": {},
   "outputs": [],
   "source": [
    "clusters = extract_clusters(linkage_data, 4)"
   ]
  },
  {
   "cell_type": "code",
   "execution_count": 34,
   "id": "3e440668",
   "metadata": {},
   "outputs": [],
   "source": [
    "def get_rowids(i):\n",
    "    cluster_id = list(clusters.keys())[i]\n",
    "    return clusters[cluster_id]"
   ]
  },
  {
   "cell_type": "code",
   "execution_count": 35,
   "id": "22edf7ff",
   "metadata": {},
   "outputs": [],
   "source": [
    "df = pd.DataFrame(rows)\n",
    "df = df.rename(columns={c:c.__str__() for c in rows[0].keys()})"
   ]
  },
  {
   "cell_type": "code",
   "execution_count": null,
   "id": "edb220f7",
   "metadata": {},
   "outputs": [],
   "source": [
    "def show_typical_vals(i):\n",
    "    \"\"\"Show typical vals for consensus cluster.\"\"\"\n",
    "    for c in df.columns:\n",
    "        if c != 'Games_Board_Puzzles':\n",
    "            print(c)\n",
    "            format(\"Median\", df.loc[get_rowids(i),c].median())\n",
    "            format(\"Standard deviation\", df.loc[get_rowids(i),c].std())"
   ]
  },
  {
   "cell_type": "code",
   "execution_count": null,
   "id": "191bd301",
   "metadata": {},
   "outputs": [],
   "source": [
    "show_typical_vals(0)"
   ]
  },
  {
   "cell_type": "code",
   "execution_count": null,
   "id": "3768afb0",
   "metadata": {},
   "outputs": [],
   "source": [
    "show_typical_vals(1)"
   ]
  },
  {
   "cell_type": "code",
   "execution_count": null,
   "id": "ce297ebf",
   "metadata": {},
   "outputs": [],
   "source": [
    "show_typical_vals(2)"
   ]
  }
 ],
 "metadata": {
  "kernelspec": {
   "display_name": "Python 3 (ipykernel)",
   "language": "python",
   "name": "python3"
  },
  "language_info": {
   "codemirror_mode": {
    "name": "ipython",
    "version": 3
   },
   "file_extension": ".py",
   "mimetype": "text/x-python",
   "name": "python",
   "nbconvert_exporter": "python",
   "pygments_lexer": "ipython3",
   "version": "3.10.12"
  }
 },
 "nbformat": 4,
 "nbformat_minor": 5
}
