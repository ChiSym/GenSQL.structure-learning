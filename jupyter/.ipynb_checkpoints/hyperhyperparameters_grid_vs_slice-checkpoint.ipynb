{
 "cells": [
  {
   "cell_type": "code",
   "execution_count": 1,
   "id": "fb110830-f781-46e6-8b25-84bce67e50cf",
   "metadata": {},
   "outputs": [],
   "source": [
    "%load_ext autoreload\n",
    "%autoreload 2"
   ]
  },
  {
   "cell_type": "code",
   "execution_count": 2,
   "id": "5713a65c-84f0-46a3-b562-797cdc04f3c7",
   "metadata": {},
   "outputs": [],
   "source": [
    "import pandas as pd\n",
    "import numpy as np\n",
    "import matplotlib.pyplot as plt"
   ]
  },
  {
   "cell_type": "markdown",
   "id": "b29cee56-c7aa-4f4e-b848-57c7225577e3",
   "metadata": {},
   "source": [
    "we'll begin by generating a dataset with a bernoulli and a categorical variable which stand in a deterministic relationship to one another"
   ]
  },
  {
   "cell_type": "code",
   "execution_count": 3,
   "id": "aca938a9-fa6f-4dfd-b49d-4477014ac7c4",
   "metadata": {},
   "outputs": [],
   "source": [
    "bernoulli = np.repeat([0, 1], 100)"
   ]
  },
  {
   "cell_type": "code",
   "execution_count": 4,
   "id": "8683876e-d4d8-490e-9b17-cea1e347be4d",
   "metadata": {},
   "outputs": [],
   "source": [
    "# categorical = np.repeat([\"false\", \"true\"], 100)\n",
    "categorical = np.repeat([0, 1], 100)"
   ]
  },
  {
   "cell_type": "code",
   "execution_count": 5,
   "id": "9e4c6547-edcb-4c8f-973e-813f03058505",
   "metadata": {},
   "outputs": [],
   "source": [
    "df = pd.DataFrame({\"bernoulli\": bernoulli, \"categorical\": categorical})"
   ]
  },
  {
   "cell_type": "markdown",
   "id": "40282e22-86e5-460f-b47f-7a3ffd473566",
   "metadata": {},
   "source": [
    "we'll then assume we're in the process of learning a crosscat model from these data, and that our current structure hypothesis posits a DPMM with clusters: one containing the first half and the other the second half of the data."
   ]
  },
  {
   "cell_type": "code",
   "execution_count": 6,
   "id": "0c50749f-48fb-4483-830d-fffa65f7433d",
   "metadata": {},
   "outputs": [],
   "source": [
    "from inferenceql_auto_modeling.cgpm import CGPMModel"
   ]
  },
  {
   "cell_type": "code",
   "execution_count": 7,
   "id": "1003f481-e296-49d4-9f8c-a45ee8e31512",
   "metadata": {},
   "outputs": [],
   "source": [
    "schema = {\"bernoulli\": \"bernoulli\", \"categorical\": \"categorical\", }"
   ]
  },
  {
   "cell_type": "code",
   "execution_count": 8,
   "id": "3214d403-4fe0-4511-8490-0272d8e1d854",
   "metadata": {},
   "outputs": [],
   "source": [
    "mapping_table = {\"categorical\": {\"false\": 0, \"true\": 1}}"
   ]
  },
  {
   "cell_type": "code",
   "execution_count": 9,
   "id": "9fe9bdc0-7d97-477e-8161-92eb3d9cb1df",
   "metadata": {},
   "outputs": [],
   "source": [
    "additional_metadata = {\n",
    "    \"Zrv\": {0: np.repeat([0, 1], 100)},\n",
    "}"
   ]
  },
  {
   "cell_type": "code",
   "execution_count": 10,
   "id": "6c077d25-756a-4445-8e7e-e250345a7012",
   "metadata": {},
   "outputs": [],
   "source": [
    "wrapper = CGPMModel.from_data(\n",
    "    df, schema, mapping_table, model=\"DPMM\", additional_metadata=additional_metadata\n",
    ")"
   ]
  },
  {
   "cell_type": "code",
   "execution_count": 11,
   "id": "38df5e32-0b80-47c9-ac24-44d963ebb571",
   "metadata": {},
   "outputs": [
    {
     "data": {
      "text/plain": [
       "<inferenceql_auto_modeling.cgpm.CGPMModel at 0x7fcdb962e5f0>"
      ]
     },
     "execution_count": 11,
     "metadata": {},
     "output_type": "execute_result"
    }
   ],
   "source": [
    "wrapper"
   ]
  },
  {
   "cell_type": "markdown",
   "id": "715bc2f4-7400-48d3-83b2-35bc5371a5c9",
   "metadata": {},
   "source": [
    "now, we'll look at what the posterior looks like over the entire grid"
   ]
  },
  {
   "cell_type": "code",
   "execution_count": 18,
   "id": "ea426758-b64c-4425-96e6-3886c0b37f79",
   "metadata": {},
   "outputs": [],
   "source": [
    "bernoulli_dim = wrapper.cgpm.dim_for(0)\n",
    "grid = bernoulli_dim.hyper_grids"
   ]
  },
  {
   "cell_type": "code",
   "execution_count": 88,
   "id": "9dae365c-e71d-4dc3-9928-28a038b18688",
   "metadata": {},
   "outputs": [],
   "source": [
    "from inferenceql_auto_modeling.slice_sampling import get_logp, set_hyper, slice_sampling"
   ]
  },
  {
   "cell_type": "code",
   "execution_count": 91,
   "id": "91929e6d-fd6c-462a-b5fa-6d36c14a9a27",
   "metadata": {},
   "outputs": [],
   "source": [
    "def get_posterior(dim, hyper, grid):\n",
    "    posterior = np.array([np.exp(get_logp(bernoulli_dim, hyper, val)) for val in grid[hyper]])\n",
    "    posterior /= sum(posterior)\n",
    "\n",
    "    return posterior"
   ]
  },
  {
   "cell_type": "markdown",
   "id": "97681198-a583-4021-bd78-a9be132b3c12",
   "metadata": {},
   "source": [
    "look, the posterior concentrates at the boundaries"
   ]
  },
  {
   "cell_type": "code",
   "execution_count": 92,
   "id": "1bdb51d8-012f-46d6-8ea3-65b65ba3a85c",
   "metadata": {},
   "outputs": [],
   "source": [
    "set_hyper(bernoulli_dim, \"alpha\", 1)\n",
    "set_hyper(bernoulli_dim, \"beta\", 1)"
   ]
  },
  {
   "cell_type": "code",
   "execution_count": 93,
   "id": "a9da0921-156c-4b5b-9360-fa315ed19362",
   "metadata": {},
   "outputs": [],
   "source": [
    "alpha_posterior = get_posterior(bernoulli_dim, \"alpha\", grid)"
   ]
  },
  {
   "cell_type": "code",
   "execution_count": 94,
   "id": "69063f8d-78fc-498f-8d1e-42ee08f017d5",
   "metadata": {},
   "outputs": [],
   "source": [
    "set_hyper(bernoulli_dim, \"alpha\", 1)\n",
    "set_hyper(bernoulli_dim, \"beta\", 1)"
   ]
  },
  {
   "cell_type": "code",
   "execution_count": 95,
   "id": "a8115364-7497-43d4-ba1d-7286a7945062",
   "metadata": {},
   "outputs": [],
   "source": [
    "beta_posterior = get_posterior(bernoulli_dim, \"beta\", grid)"
   ]
  },
  {
   "cell_type": "code",
   "execution_count": 97,
   "id": "3a1dbf29-ae10-439e-b342-763a6cc80c38",
   "metadata": {},
   "outputs": [
    {
     "data": {
      "text/plain": [
       "[<matplotlib.lines.Line2D at 0x7fcd8f5f3be0>]"
      ]
     },
     "execution_count": 97,
     "metadata": {},
     "output_type": "execute_result"
    },
    {
     "data": {
      "image/png": "[encoded data removed]",
      "text/plain": [
       "<Figure size 640x480 with 1 Axes>"
      ]
     },
     "metadata": {},
     "output_type": "display_data"
    }
   ],
   "source": [
    "plt.plot(alpha_posterior)"
   ]
  },
  {
   "cell_type": "code",
   "execution_count": 98,
   "id": "f79d28d4-95a5-42ea-b485-bdbbe0d2b125",
   "metadata": {},
   "outputs": [
    {
     "data": {
      "text/plain": [
       "[<matplotlib.lines.Line2D at 0x7fcd8f626530>]"
      ]
     },
     "execution_count": 98,
     "metadata": {},
     "output_type": "execute_result"
    },
    {
     "data": {
      "image/png": "[encoded data removed]",
      "text/plain": [
       "<Figure size 640x480 with 1 Axes>"
      ]
     },
     "metadata": {},
     "output_type": "display_data"
    }
   ],
   "source": [
    "plt.plot(beta_posterior)"
   ]
  },
  {
   "cell_type": "markdown",
   "id": "8c6afe9d-85bd-46a7-90bd-1562bb5a02ef",
   "metadata": {},
   "source": [
    "this presents an issue if we use CGPM's column hyperparameter transition kernel:"
   ]
  },
  {
   "cell_type": "code",
   "execution_count": 99,
   "id": "b4c8a098-03e6-4ba7-9c62-0c2a92d921a5",
   "metadata": {},
   "outputs": [],
   "source": [
    "set_hyper(bernoulli_dim, \"alpha\", 1)\n",
    "set_hyper(bernoulli_dim, \"beta\", 1)"
   ]
  },
  {
   "cell_type": "code",
   "execution_count": 100,
   "id": "b7d49d41-a612-40af-83c8-47a0572aac5a",
   "metadata": {},
   "outputs": [],
   "source": [
    "wrapper.cgpm.transition_dim_hypers()"
   ]
  },
  {
   "cell_type": "code",
   "execution_count": 101,
   "id": "966d4caf-f31d-4193-b0b6-f49e06aa543e",
   "metadata": {},
   "outputs": [
    {
     "data": {
      "text/plain": [
       "{'alpha': 1.0, 'beta': 1.0}"
      ]
     },
     "execution_count": 101,
     "metadata": {},
     "output_type": "execute_result"
    }
   ],
   "source": [
    "bernoulli_dim.hypers"
   ]
  },
  {
   "cell_type": "markdown",
   "id": "1f312948-29b9-4bf4-b8cf-54ce6d9b1fd7",
   "metadata": {},
   "source": [
    "as we can see, we get stuck near the boundary of the grid"
   ]
  },
  {
   "cell_type": "code",
   "execution_count": 116,
   "id": "fc4955e8-58da-4264-b834-dac0d861fb27",
   "metadata": {},
   "outputs": [],
   "source": [
    "set_hyper(bernoulli_dim, \"alpha\", 1)\n",
    "set_hyper(bernoulli_dim, \"beta\", 1)"
   ]
  },
  {
   "cell_type": "code",
   "execution_count": 117,
   "id": "d1ac046f-85bf-4359-95fb-f2d7d95fa213",
   "metadata": {},
   "outputs": [
    {
     "name": "stdout",
     "output_type": "stream",
     "text": [
      "Completed: 2 iterations in 0.000139 minutes.\n"
     ]
    }
   ],
   "source": [
    "wrapper.inference(N=2, kernels=[\"column_hypers\"])"
   ]
  },
  {
   "cell_type": "code",
   "execution_count": 118,
   "id": "f527c201-abcd-4f4b-abb0-2a4fe4f922f5",
   "metadata": {},
   "outputs": [
    {
     "data": {
      "text/plain": [
       "{'alpha': 1.0606672327793287, 'beta': 1.4314680211628457}"
      ]
     },
     "execution_count": 118,
     "metadata": {},
     "output_type": "execute_result"
    }
   ],
   "source": [
    "bernoulli_dim.hypers"
   ]
  },
  {
   "cell_type": "code",
   "execution_count": null,
   "id": "c049c22a-fbfb-4161-889c-90d9c6a8614e",
   "metadata": {},
   "outputs": [],
   "source": []
  }
 ],
 "metadata": {
  "kernelspec": {
   "display_name": "Python 3 (ipykernel)",
   "language": "python",
   "name": "python3"
  },
  "language_info": {
   "codemirror_mode": {
    "name": "ipython",
    "version": 3
   },
   "file_extension": ".py",
   "mimetype": "text/x-python",
   "name": "python",
   "nbconvert_exporter": "python",
   "pygments_lexer": "ipython3",
   "version": "3.10.12"
  }
 },
 "nbformat": 4,
 "nbformat_minor": 5
}
