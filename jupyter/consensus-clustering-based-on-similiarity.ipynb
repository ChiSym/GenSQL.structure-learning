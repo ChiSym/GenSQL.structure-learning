{
 "cells": [
  {
   "cell_type": "markdown",
   "id": "b341bcf4",
   "metadata": {},
   "source": [
    "# Goal of this notebook\n",
    "Compute similarity(row_A, row_B) as `mean([cluster(row_A, view, model) == cluster(row_B, view, model) for each model in an ensemble` and for a view indicated via a variable of interest `context`. Use hierarchical clustering of all pairs (row_A, row_B) and map those clusters back to synthetic data. Note that this could be done with real data, too.\n"
   ]
  },
  {
   "cell_type": "code",
   "execution_count": 1,
   "id": "eef8fb01",
   "metadata": {},
   "outputs": [],
   "source": [
    "import edn_format\n",
    "import itertools\n",
    "import json\n",
    "import matplotlib.pyplot as plt\n",
    "import numpy as np\n",
    "import pandas as pd\n",
    "import sppl.compilers.spe_to_dict as spe_to_dict\n",
    "\n",
    "from multiprocessing import Pool\n",
    "from scipy.cluster.hierarchy import dendrogram, linkage\n",
    "from sppl.transforms import Identity as I"
   ]
  },
  {
   "cell_type": "code",
   "execution_count": 2,
   "id": "d1530104",
   "metadata": {},
   "outputs": [],
   "source": [
    "# Load ensemble.\n",
    "with open(\"../data/sppl/merged.json\", \"r\") as f:\n",
    "    ensemble = spe_to_dict.spe_from_dict(json.load(f))\n",
    "# Record the number of models in the ensemble.\n",
    "n_models = len(ensemble.children)"
   ]
  },
  {
   "cell_type": "code",
   "execution_count": 3,
   "id": "640deba9",
   "metadata": {},
   "outputs": [],
   "source": [
    "# Load probability of dependence. We'll use this to tune number\n",
    "with open(\"../data/dep-prob.json\", \"r\") as f:\n",
    "    dep_prob = json.load(f)"
   ]
  },
  {
   "cell_type": "code",
   "execution_count": 4,
   "id": "f157f8dd",
   "metadata": {},
   "outputs": [],
   "source": [
    "# Load ASTs to look up the context of a variable.\n",
    "def get_ast(i):\n",
    "    \"\"\"Reads i-th AST from disk.\"\"\"\n",
    "    with open(f\"../data/ast/sample.{i}.edn\", \"r\") as f:\n",
    "        ast = edn_format.loads(f.read())\n",
    "    return ast\n",
    "asts = [get_ast(i) for i in range(n_models)]"
   ]
  },
  {
   "cell_type": "code",
   "execution_count": 5,
   "id": "2b5dec14",
   "metadata": {},
   "outputs": [],
   "source": [
    "def predictors(m, context):\n",
    "    \"\"\"Find the top m dependent columns for a context variable\"\"\"\n",
    "    return [k for k,v in sorted(dep_prob[context].items(), key=lambda item: item[1])][0:m]"
   ]
  },
  {
   "cell_type": "code",
   "execution_count": 6,
   "id": "6400a854",
   "metadata": {},
   "outputs": [],
   "source": [
    "n = 500\n",
    "context = \"vaccination_status\"\n",
    "covariates = predictors(5, context)"
   ]
  },
  {
   "cell_type": "code",
   "execution_count": 7,
   "id": "a504b340",
   "metadata": {},
   "outputs": [],
   "source": [
    "# Generate a bunch of synthetic data rows\n",
    "rows = ensemble.sample_subset([I(c) for c in covariates] + [I(context)], n)\n",
    "# Record all pairs of rows.\n",
    "pairs = list(itertools.combinations(range(n) ,2))"
   ]
  },
  {
   "cell_type": "code",
   "execution_count": 8,
   "id": "463b9ce5",
   "metadata": {},
   "outputs": [],
   "source": [
    "def get_view(model_index, context):\n",
    "    \"\"\"Get the view-ID for the `context` variable\"\"\"\n",
    "    for vid, v in enumerate(asts[model_index][edn_format.Keyword(\"multimixture/views\")]):\n",
    "        if context in dict(\n",
    "            v[edn_format.Keyword(\"view/clusters\")][0][\n",
    "                edn_format.Keyword(\"cluster/column->distribution\")]        ).keys():\n",
    "            return vid\n",
    "        \n",
    "def get_cluster_samples(model_index, context):\n",
    "    \"\"\"Sample a cluster id for a given model_index\n",
    "    and context variable (indicating the view)\"\"\"\n",
    "    vid = get_view(model_index, context)\n",
    "    samples = []\n",
    "    for row in rows:\n",
    "        s = ensemble.children[model_index].constrain(row).sample_subset([I(f\"view_{vid}_cluster\")], 1)[0][\n",
    "            I(f\"view_{vid}_cluster\")]\n",
    "        samples.append(s)\n",
    "    return samples\n",
    "\n",
    "def get_agreement(model_index):\n",
    "    \"\"\"\"For each pair of rows, check if the same cluster ID was sampled.\"\"\"\n",
    "    samples = get_cluster_samples(model_index, context)\n",
    "    # return aggrement\n",
    "    return [\n",
    "        samples[i] == samples[j]\n",
    "        for i,j in pairs\n",
    "    ]\n",
    "\n",
    "def get_similarity():\n",
    "    \"\"\"Compute similarity for all pairs of columns.\"\"\"\n",
    "    rows = ensemble.sample_subset([I(c) for c in covariates], n)\n",
    "    pairs = list(itertools.combinations(range(len(rows)), 2))\n",
    "    with Pool() as P:\n",
    "        agreement_matrix = list(P.map(get_agreement, range(n_models)))\n",
    "    return np.mean(np.asarray(agreement_matrix), axis=1)"
   ]
  },
  {
   "cell_type": "code",
   "execution_count": 9,
   "id": "270435fc",
   "metadata": {},
   "outputs": [],
   "source": [
    "# Compute aggreement, \n",
    "agreement = get_similarity()"
   ]
  },
  {
   "cell_type": "code",
   "execution_count": 10,
   "id": "f18e414c",
   "metadata": {},
   "outputs": [
    {
     "data": {
      "text/plain": [
       "[]"
      ]
     },
     "execution_count": 10,
     "metadata": {},
     "output_type": "execute_result"
    },
    {
     "data": {
      "image/png": "[encoded data removed]",
      "text/plain": [
       "<Figure size 432x288 with 1 Axes>"
      ]
     },
     "metadata": {
      "needs_background": "light"
     },
     "output_type": "display_data"
    }
   ],
   "source": [
    "linkage_data = linkage([(s,) for s in agreement], method='centroid', metric='euclidean')\n",
    "dendrogram(linkage_data)\n",
    "ax = plt.gca()\n",
    "ax.set_xticks([])"
   ]
  },
  {
   "cell_type": "code",
   "execution_count": 11,
   "id": "d8219614",
   "metadata": {},
   "outputs": [],
   "source": [
    "def extract_clusters(linkage_matrix, level_from_top):\n",
    "    \"\"\"Extract clustering for a given hieararchy level\"\"\"\n",
    "    level = linkage_data.shape[0] - level_from_top\n",
    "    # Initial clusters\n",
    "    clusters = {i: [i] for i in range(linkage_matrix.shape[0] + 1)}\n",
    "\n",
    "    # Go through the first \"level\" merges\n",
    "    for i in range(level):\n",
    "        merged_clusters = clusters.pop(linkage_matrix[i, 0])\n",
    "        merged_clusters.extend(clusters.pop(linkage_matrix[i, 1]))\n",
    "        clusters[linkage_matrix.shape[0] + 1 + i] = merged_clusters\n",
    "\n",
    "    return clusters"
   ]
  },
  {
   "cell_type": "code",
   "execution_count": 12,
   "id": "0d025e02",
   "metadata": {},
   "outputs": [],
   "source": [
    "clusters = extract_clusters(linkage_data, 2)"
   ]
  },
  {
   "cell_type": "code",
   "execution_count": 13,
   "id": "96239076",
   "metadata": {},
   "outputs": [],
   "source": [
    "def get_rowids(i):\n",
    "    cluster_id = list(clusters.keys())[i]\n",
    "    rowids = []\n",
    "    for pid in clusters[cluster_id]:\n",
    "        rowids.extend(pairs[pid])\n",
    "    return list(set(rowids))"
   ]
  },
  {
   "cell_type": "code",
   "execution_count": 14,
   "id": "17371b61",
   "metadata": {},
   "outputs": [],
   "source": [
    "df = pd.DataFrame(rows)\n",
    "df = df.rename(columns={c:c.__str__() for c in rows[0].keys()})"
   ]
  },
  {
   "cell_type": "code",
   "execution_count": 15,
   "id": "886a4f1d",
   "metadata": {},
   "outputs": [],
   "source": [
    "def format(name, v):\n",
    "    print(f\"   {name}: {np.round(v, decimals=2)}\")\n",
    "\n",
    "def show_typical_vals(i):\n",
    "    \"\"\"Show typical vals for consensus cluster.\"\"\"\n",
    "    for c in df.columns:\n",
    "        print(c)\n",
    "        if df.dtypes[c]==\"object\":\n",
    "            print(f\"    Mode: {df.loc[get_rowids(i),c].mode()[0]}\")\n",
    "        else:\n",
    "            format(\"Median\", df.loc[get_rowids(i),c].median())\n",
    "            format(\"Standard deviation\", df.loc[get_rowids(i),c].std())"
   ]
  },
  {
   "cell_type": "code",
   "execution_count": 16,
   "id": "4790a4b7",
   "metadata": {},
   "outputs": [
    {
     "name": "stdout",
     "output_type": "stream",
     "text": [
      "vaccination_status\n",
      "    Mode: (b) fully vaccinated but have not received a booster shot\n",
      "US_citizen\n",
      "    Mode: yes\n",
      "divorced_last_year\n",
      "    Mode: no\n",
      "waiting_for_voting\n",
      "    Mode: (a) Not at all\n",
      "problem_voting\n",
      "    Mode: no\n",
      "where_was_ballot_returned\n",
      "    Mode: Drop box used only for ballots, not located at an election office or polling place\n"
     ]
    }
   ],
   "source": [
    "show_typical_vals(0)"
   ]
  },
  {
   "cell_type": "code",
   "execution_count": 17,
   "id": "0df3deef",
   "metadata": {},
   "outputs": [
    {
     "name": "stdout",
     "output_type": "stream",
     "text": [
      "vaccination_status\n",
      "    Mode: (a) fully vaccinated and have received at least one booster shot\n",
      "US_citizen\n",
      "    Mode: no\n",
      "divorced_last_year\n",
      "    Mode: no\n",
      "waiting_for_voting\n",
      "    Mode: (a) Not at all\n",
      "problem_voting\n",
      "    Mode: no\n",
      "where_was_ballot_returned\n",
      "    Mode: Drop box used only for ballots, not located at an election office or polling place\n"
     ]
    }
   ],
   "source": [
    "show_typical_vals(1)"
   ]
  },
  {
   "cell_type": "code",
   "execution_count": 18,
   "id": "b7bc0e43",
   "metadata": {},
   "outputs": [
    {
     "name": "stdout",
     "output_type": "stream",
     "text": [
      "vaccination_status\n",
      "    Mode: (d) not vaccinated at all\n",
      "US_citizen\n",
      "    Mode: yes\n",
      "divorced_last_year\n",
      "    Mode: no\n",
      "waiting_for_voting\n",
      "    Mode: (a) Not at all\n",
      "problem_voting\n",
      "    Mode: no\n",
      "where_was_ballot_returned\n",
      "    Mode: Picked up by the postal worker who delivers mail to my home\n"
     ]
    }
   ],
   "source": [
    "show_typical_vals(2)"
   ]
  }
 ],
 "metadata": {
  "kernelspec": {
   "display_name": "Python 3 (ipykernel)",
   "language": "python",
   "name": "python3"
  },
  "language_info": {
   "codemirror_mode": {
    "name": "ipython",
    "version": 3
   },
   "file_extension": ".py",
   "mimetype": "text/x-python",
   "name": "python",
   "nbconvert_exporter": "python",
   "pygments_lexer": "ipython3",
   "version": "3.10.12"
  }
 },
 "nbformat": 4,
 "nbformat_minor": 5
}
