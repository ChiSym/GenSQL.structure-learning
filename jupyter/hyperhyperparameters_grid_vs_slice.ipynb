{
 "cells": [
  {
   "cell_type": "code",
   "execution_count": 1,
   "id": "fb110830-f781-46e6-8b25-84bce67e50cf",
   "metadata": {},
   "outputs": [],
   "source": [
    "%load_ext autoreload\n",
    "%autoreload 2"
   ]
  },
  {
   "cell_type": "code",
   "execution_count": 61,
   "id": "5713a65c-84f0-46a3-b562-797cdc04f3c7",
   "metadata": {},
   "outputs": [],
   "source": [
    "import pandas as pd\n",
    "import numpy as np\n",
    "from tqdm import tqdm\n",
    "import matplotlib.pyplot as plt\n",
    "from matplotlib import cm"
   ]
  },
  {
   "cell_type": "markdown",
   "id": "b29cee56-c7aa-4f4e-b848-57c7225577e3",
   "metadata": {},
   "source": [
    "we'll begin by generating a dataset with a bernoulli and a categorical variable which stand in a deterministic relationship to one another"
   ]
  },
  {
   "cell_type": "code",
   "execution_count": 3,
   "id": "259632c7-e0a7-44fd-939c-b3ccd0bba554",
   "metadata": {},
   "outputs": [],
   "source": [
    "bernoulli = np.repeat([0, 1], 100)\n",
    "categorical = np.repeat([0, 1], 100)"
   ]
  },
  {
   "cell_type": "code",
   "execution_count": 4,
   "id": "9e4c6547-edcb-4c8f-973e-813f03058505",
   "metadata": {},
   "outputs": [],
   "source": [
    "df = pd.DataFrame({\"bernoulli\": bernoulli, \"categorical\": categorical})"
   ]
  },
  {
   "cell_type": "markdown",
   "id": "40282e22-86e5-460f-b47f-7a3ffd473566",
   "metadata": {},
   "source": [
    "we'll then assume we're in the process of learning a crosscat model from these data, and that our current structure hypothesis posits a DPMM with clusters: one containing the first half and the other the second half of the data."
   ]
  },
  {
   "cell_type": "code",
   "execution_count": 5,
   "id": "0c50749f-48fb-4483-830d-fffa65f7433d",
   "metadata": {},
   "outputs": [],
   "source": [
    "from inferenceql_auto_modeling.cgpm import CGPMModel"
   ]
  },
  {
   "cell_type": "code",
   "execution_count": 6,
   "id": "1003f481-e296-49d4-9f8c-a45ee8e31512",
   "metadata": {},
   "outputs": [],
   "source": [
    "schema = {\"bernoulli\": \"bernoulli\", \"categorical\": \"categorical\", }"
   ]
  },
  {
   "cell_type": "code",
   "execution_count": 7,
   "id": "3214d403-4fe0-4511-8490-0272d8e1d854",
   "metadata": {},
   "outputs": [],
   "source": [
    "mapping_table = {\"categorical\": {\"false\": 0, \"true\": 1}}"
   ]
  },
  {
   "cell_type": "code",
   "execution_count": 8,
   "id": "9fe9bdc0-7d97-477e-8161-92eb3d9cb1df",
   "metadata": {},
   "outputs": [],
   "source": [
    "additional_metadata = {\n",
    "    \"Zrv\": {0: np.repeat([0, 1], 100)},\n",
    "}"
   ]
  },
  {
   "cell_type": "code",
   "execution_count": 9,
   "id": "6c077d25-756a-4445-8e7e-e250345a7012",
   "metadata": {},
   "outputs": [],
   "source": [
    "wrapper = CGPMModel.from_data(\n",
    "    df, schema, mapping_table, model=\"DPMM\", additional_metadata=additional_metadata\n",
    ")"
   ]
  },
  {
   "cell_type": "code",
   "execution_count": 10,
   "id": "38df5e32-0b80-47c9-ac24-44d963ebb571",
   "metadata": {},
   "outputs": [
    {
     "data": {
      "text/plain": [
       "<inferenceql_auto_modeling.cgpm.CGPMModel at 0x7f01d15da200>"
      ]
     },
     "execution_count": 10,
     "metadata": {},
     "output_type": "execute_result"
    }
   ],
   "source": [
    "wrapper"
   ]
  },
  {
   "cell_type": "markdown",
   "id": "715bc2f4-7400-48d3-83b2-35bc5371a5c9",
   "metadata": {},
   "source": [
    "now, we'll look at what the posterior looks like over the entire grid"
   ]
  },
  {
   "cell_type": "code",
   "execution_count": 11,
   "id": "ea426758-b64c-4425-96e6-3886c0b37f79",
   "metadata": {},
   "outputs": [],
   "source": [
    "bernoulli_dim = wrapper.cgpm.dim_for(0)\n",
    "categorical_dim = wrapper.cgpm.dim_for(1)\n",
    "\n",
    "grid = bernoulli_dim.hyper_grids"
   ]
  },
  {
   "cell_type": "code",
   "execution_count": 12,
   "id": "9dae365c-e71d-4dc3-9928-28a038b18688",
   "metadata": {},
   "outputs": [],
   "source": [
    "from inferenceql_auto_modeling.slice_sampling import get_logp, set_hyper, slice_sampling"
   ]
  },
  {
   "cell_type": "code",
   "execution_count": 83,
   "id": "91929e6d-fd6c-462a-b5fa-6d36c14a9a27",
   "metadata": {},
   "outputs": [],
   "source": [
    "def get_posterior(dim, hyper, grid):\n",
    "    posterior = np.array([get_logp(bernoulli_dim, hyper, val) for val in grid])\n",
    "\n",
    "    return posterior"
   ]
  },
  {
   "cell_type": "markdown",
   "id": "97681198-a583-4021-bd78-a9be132b3c12",
   "metadata": {},
   "source": [
    "look, the posterior concentrates at the boundaries"
   ]
  },
  {
   "cell_type": "code",
   "execution_count": 84,
   "id": "1bdb51d8-012f-46d6-8ea3-65b65ba3a85c",
   "metadata": {},
   "outputs": [],
   "source": [
    "def reset_hypers(bernoulli_dim, categorical_dim):\n",
    "    set_hyper(bernoulli_dim, \"alpha\", 1)\n",
    "    set_hyper(bernoulli_dim, \"beta\", 1)\n",
    "    set_hyper(categorical_dim, \"alpha\", 1)"
   ]
  },
  {
   "cell_type": "code",
   "execution_count": 115,
   "id": "2e8939e1-0bd6-46ea-b4fe-03e538c27459",
   "metadata": {},
   "outputs": [],
   "source": [
    "n_grid = 100\n",
    "grid = np.geomspace(1e-10, 10, n_grid)\n",
    "\n",
    "def get_beta_posterior(bernoulli_dim):\n",
    "    alphas = np.zeros(n_grid * n_grid)\n",
    "    betas = np.zeros(n_grid * n_grid)\n",
    "    posterior = np.zeros(n_grid * n_grid)\n",
    "    for i, beta_val in tqdm(enumerate(grid)):\n",
    "        set_hyper(bernoulli_dim, \"beta\", beta_val)\n",
    "        posterior[i*n_grid: (i+1) * n_grid] = get_posterior(bernoulli_dim, \"alpha\", grid)\n",
    "        alphas[i*n_grid: (i+1) * n_grid] = grid\n",
    "        betas[i*n_grid: (i+1) * n_grid] = beta_val\n",
    "\n",
    "    posterior = np.exp(posterior)\n",
    "    posterior /= sum(posterior)\n",
    "    \n",
    "    return pd.DataFrame({\n",
    "        \"log_alpha\": np.log(alphas),\n",
    "        \"log_beta\": np.log(betas),\n",
    "        \"posterior\": posterior\n",
    "    })"
   ]
  },
  {
   "cell_type": "code",
   "execution_count": 116,
   "id": "b667474c-a418-4e29-b3d9-4331bf38ccc5",
   "metadata": {},
   "outputs": [
    {
     "name": "stderr",
     "output_type": "stream",
     "text": [
      "100it [00:00, 1703.44it/s]\n"
     ]
    }
   ],
   "source": [
    "df = get_beta_posterior(bernoulli_dim)"
   ]
  },
  {
   "cell_type": "code",
   "execution_count": 119,
   "id": "23a906bf-7bc4-418f-9e8a-06ff5b13884e",
   "metadata": {},
   "outputs": [
    {
     "data": {
      "text/plain": [
       "([<matplotlib.axis.XTick at 0x7f016b24fa00>,\n",
       "  <matplotlib.axis.XTick at 0x7f016b24dc60>,\n",
       "  <matplotlib.axis.XTick at 0x7f016b28f1f0>,\n",
       "  <matplotlib.axis.XTick at 0x7f0177489ea0>,\n",
       "  <matplotlib.axis.XTick at 0x7f017748a950>],\n",
       " [Text(-23.025850929940457, 0, '1.00e-10'),\n",
       "  Text(-16.69374192420683, 0, '5.62e-08'),\n",
       "  Text(-10.361632918473205, 0, '3.16e-05'),\n",
       "  Text(-4.02952391273958, 0, '1.78e-02'),\n",
       "  Text(2.3025850929940455, 0, '1.00e+01')])"
      ]
     },
     "execution_count": 119,
     "metadata": {},
     "output_type": "execute_result"
    },
    {
     "data": {
      "image/png": "[encoded data removed]",
      "text/plain": [
       "<Figure size 640x480 with 1 Axes>"
      ]
     },
     "metadata": {},
     "output_type": "display_data"
    }
   ],
   "source": [
    "from matplotlib.ticker import StrMethodFormatter\n",
    "\n",
    "fig, ax = plt.subplots(subplot_kw={\"projection\": \"3d\"})\n",
    "surf = ax.plot_trisurf(df['log_alpha'], df['log_beta'], df['posterior'], cmap=cm.viridis,\n",
    "                       linewidth=0, antialiased=False)\n",
    "\n",
    "def make_axis_labels(axis):\n",
    "    return ['{:.2e}'.format(float(label)) for label in axis]\n",
    "    \n",
    "small_grid_labels = np.geomspace(1e-10, 10, 5)\n",
    "small_grid_vals = np.log(small_grid_labels)\n",
    "\n",
    "plt.xticks(\n",
    "    small_grid_vals,\n",
    "    make_axis_labels(small_grid_labels)\n",
    ")\n",
    "plt.yticks(\n",
    "    small_grid_vals,\n",
    "    make_axis_labels(small_grid_labels)\n",
    ")\n",
    "# plt.xscale(\"log\")\n",
    "# plt.yscale(\"log\")"
   ]
  },
  {
   "cell_type": "code",
   "execution_count": 27,
   "id": "4c721d87-fe28-411f-8463-02ecef67afef",
   "metadata": {},
   "outputs": [],
   "source": [
    "reset_hypers(bernoulli_dim, categorical_dim)"
   ]
  },
  {
   "cell_type": "code",
   "execution_count": 28,
   "id": "a9da0921-156c-4b5b-9360-fa315ed19362",
   "metadata": {},
   "outputs": [],
   "source": [
    "alpha_posterior = get_posterior(bernoulli_dim, \"alpha\", grid)"
   ]
  },
  {
   "cell_type": "code",
   "execution_count": 29,
   "id": "69063f8d-78fc-498f-8d1e-42ee08f017d5",
   "metadata": {},
   "outputs": [],
   "source": [
    "reset_hypers(bernoulli_dim, categorical_dim)"
   ]
  },
  {
   "cell_type": "code",
   "execution_count": 30,
   "id": "a8115364-7497-43d4-ba1d-7286a7945062",
   "metadata": {},
   "outputs": [],
   "source": [
    "beta_posterior = get_posterior(bernoulli_dim, \"beta\", grid)"
   ]
  },
  {
   "cell_type": "code",
   "execution_count": 31,
   "id": "3a1dbf29-ae10-439e-b342-763a6cc80c38",
   "metadata": {},
   "outputs": [
    {
     "data": {
      "text/plain": [
       "[<matplotlib.lines.Line2D at 0x7f01ab076e90>]"
      ]
     },
     "execution_count": 31,
     "metadata": {},
     "output_type": "execute_result"
    },
    {
     "data": {
      "image/png": "[encoded data removed]",
      "text/plain": [
       "<Figure size 640x480 with 1 Axes>"
      ]
     },
     "metadata": {},
     "output_type": "display_data"
    }
   ],
   "source": [
    "plt.plot(alpha_posterior)"
   ]
  },
  {
   "cell_type": "code",
   "execution_count": 32,
   "id": "f79d28d4-95a5-42ea-b485-bdbbe0d2b125",
   "metadata": {},
   "outputs": [
    {
     "data": {
      "text/plain": [
       "[<matplotlib.lines.Line2D at 0x7f01aaf11120>]"
      ]
     },
     "execution_count": 32,
     "metadata": {},
     "output_type": "execute_result"
    },
    {
     "data": {
      "image/png": "[encoded data removed]",
      "text/plain": [
       "<Figure size 640x480 with 1 Axes>"
      ]
     },
     "metadata": {},
     "output_type": "display_data"
    }
   ],
   "source": [
    "plt.plot(beta_posterior)"
   ]
  },
  {
   "cell_type": "markdown",
   "id": "8c6afe9d-85bd-46a7-90bd-1562bb5a02ef",
   "metadata": {},
   "source": [
    "this presents an issue if we use CGPM's column hyperparameter transition kernel:"
   ]
  },
  {
   "cell_type": "code",
   "execution_count": 33,
   "id": "b4c8a098-03e6-4ba7-9c62-0c2a92d921a5",
   "metadata": {},
   "outputs": [],
   "source": [
    "reset_hypers(bernoulli_dim, categorical_dim)"
   ]
  },
  {
   "cell_type": "code",
   "execution_count": 34,
   "id": "b7d49d41-a612-40af-83c8-47a0572aac5a",
   "metadata": {},
   "outputs": [],
   "source": [
    "wrapper.cgpm.transition_dim_hypers()"
   ]
  },
  {
   "cell_type": "code",
   "execution_count": 35,
   "id": "966d4caf-f31d-4193-b0b6-f49e06aa543e",
   "metadata": {},
   "outputs": [
    {
     "data": {
      "text/plain": [
       "{'alpha': 1.0, 'beta': 1.0}"
      ]
     },
     "execution_count": 35,
     "metadata": {},
     "output_type": "execute_result"
    }
   ],
   "source": [
    "bernoulli_dim.hypers"
   ]
  },
  {
   "cell_type": "code",
   "execution_count": 36,
   "id": "240490e4-8206-46db-8667-cc8d28297cfd",
   "metadata": {},
   "outputs": [
    {
     "data": {
      "text/plain": [
       "{'alpha': 1.0}"
      ]
     },
     "execution_count": 36,
     "metadata": {},
     "output_type": "execute_result"
    }
   ],
   "source": [
    "categorical_dim.hypers"
   ]
  },
  {
   "cell_type": "markdown",
   "id": "1f312948-29b9-4bf4-b8cf-54ce6d9b1fd7",
   "metadata": {},
   "source": [
    "as we can see, we get stuck near the boundary of the grid"
   ]
  },
  {
   "cell_type": "code",
   "execution_count": 42,
   "id": "fc4955e8-58da-4264-b834-dac0d861fb27",
   "metadata": {},
   "outputs": [],
   "source": [
    "reset_hypers(bernoulli_dim, categorical_dim)"
   ]
  },
  {
   "cell_type": "code",
   "execution_count": 43,
   "id": "d1ac046f-85bf-4359-95fb-f2d7d95fa213",
   "metadata": {},
   "outputs": [
    {
     "name": "stdout",
     "output_type": "stream",
     "text": [
      "[                              ] 0.00%> \u001b[0;32m/home/joao-large-population-models/test_auto_modeling/inferenceql_auto_modeling/slice_sampling.py\u001b[0m(73)\u001b[0;36mslice_sampling\u001b[0;34m()\u001b[0m\n",
      "\u001b[0;32m     71 \u001b[0;31m    \u001b[0;32mimport\u001b[0m \u001b[0mipdb\u001b[0m\u001b[0;34m;\u001b[0m \u001b[0mipdb\u001b[0m\u001b[0;34m.\u001b[0m\u001b[0mset_trace\u001b[0m\u001b[0;34m(\u001b[0m\u001b[0;34m)\u001b[0m\u001b[0;34m\u001b[0m\u001b[0;34m\u001b[0m\u001b[0m\n",
      "\u001b[0m\u001b[0;32m     72 \u001b[0;31m\u001b[0;34m\u001b[0m\u001b[0m\n",
      "\u001b[0m\u001b[0;32m---> 73 \u001b[0;31m    \u001b[0;32mreturn\u001b[0m \u001b[0mnp\u001b[0m\u001b[0;34m.\u001b[0m\u001b[0mrandom\u001b[0m\u001b[0;34m.\u001b[0m\u001b[0muniform\u001b[0m\u001b[0;34m(\u001b[0m\u001b[0mx_low\u001b[0m\u001b[0;34m,\u001b[0m \u001b[0mx_high\u001b[0m\u001b[0;34m)\u001b[0m\u001b[0;34m\u001b[0m\u001b[0;34m\u001b[0m\u001b[0m\n",
      "\u001b[0m\n"
     ]
    },
    {
     "name": "stdin",
     "output_type": "stream",
     "text": [
      "ipdb>  x_low\n"
     ]
    },
    {
     "name": "stdout",
     "output_type": "stream",
     "text": [
      "0.0026606115827518214\n"
     ]
    },
    {
     "name": "stdin",
     "output_type": "stream",
     "text": [
      "ipdb>  x_low\n"
     ]
    },
    {
     "name": "stdout",
     "output_type": "stream",
     "text": [
      "0.0026606115827518214\n"
     ]
    },
    {
     "name": "stdin",
     "output_type": "stream",
     "text": [
      "ipdb>  x_high\n"
     ]
    },
    {
     "name": "stdout",
     "output_type": "stream",
     "text": [
      "1.40566861101617\n"
     ]
    },
    {
     "name": "stdin",
     "output_type": "stream",
     "text": [
      "ipdb>  q\n"
     ]
    }
   ],
   "source": [
    "wrapper.inference(N=100, kernels=[\"column_hypers\"])"
   ]
  },
  {
   "cell_type": "code",
   "execution_count": 41,
   "id": "f527c201-abcd-4f4b-abb0-2a4fe4f922f5",
   "metadata": {},
   "outputs": [
    {
     "data": {
      "text/plain": [
       "{'alpha': 0.12551987149263216, 'beta': 0.3591954000164305}"
      ]
     },
     "execution_count": 41,
     "metadata": {},
     "output_type": "execute_result"
    }
   ],
   "source": [
    "bernoulli_dim.hypers"
   ]
  },
  {
   "cell_type": "code",
   "execution_count": null,
   "id": "c049c22a-fbfb-4161-889c-90d9c6a8614e",
   "metadata": {},
   "outputs": [],
   "source": []
  }
 ],
 "metadata": {
  "kernelspec": {
   "display_name": "Python 3 (ipykernel)",
   "language": "python",
   "name": "python3"
  },
  "language_info": {
   "codemirror_mode": {
    "name": "ipython",
    "version": 3
   },
   "file_extension": ".py",
   "mimetype": "text/x-python",
   "name": "python",
   "nbconvert_exporter": "python",
   "pygments_lexer": "ipython3",
   "version": "3.10.12"
  }
 },
 "nbformat": 4,
 "nbformat_minor": 5
}
