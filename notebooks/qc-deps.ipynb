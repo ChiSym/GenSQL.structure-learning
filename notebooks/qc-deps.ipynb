{
 "cells": [
  {
   "cell_type": "code",
   "execution_count": 1,
   "id": "83d30e55",
   "metadata": {},
   "outputs": [],
   "source": [
    "import yaml\n",
    "import itertools"
   ]
  },
  {
   "cell_type": "code",
   "execution_count": 2,
   "id": "8340b0cd",
   "metadata": {},
   "outputs": [
    {
     "name": "stderr",
     "output_type": "stream",
     "text": [
      "/tmp/nix-shell.u41X8l/nix-shell.afCeuu/ipykernel_15549/739082549.py:2: YAMLLoadWarning: calling yaml.load() without Loader=... is deprecated, as the default Loader is unsafe. Please read https://msg.pyyaml.org/load for full details.\n",
      "  dvc = yaml.load(dvc_yaml_file)\n"
     ]
    }
   ],
   "source": [
    "with open('dvc.yaml') as dvc_yaml_file:\n",
    "    dvc = yaml.load(dvc_yaml_file)"
   ]
  },
  {
   "cell_type": "code",
   "execution_count": 3,
   "id": "d5a6ca0e",
   "metadata": {},
   "outputs": [],
   "source": [
    "stages = list(dvc['stages'].keys())"
   ]
  },
  {
   "cell_type": "code",
   "execution_count": 4,
   "id": "29f5636f",
   "metadata": {},
   "outputs": [],
   "source": [
    "deps = {stage: dvc['stages'][stage]['deps'] for stage in stages}"
   ]
  },
  {
   "cell_type": "code",
   "execution_count": 5,
   "id": "7ad24db2",
   "metadata": {},
   "outputs": [],
   "source": [
    "outs = {stage: dvc['stages'][stage]['outs'] for stage in stages}"
   ]
  },
  {
   "cell_type": "code",
   "execution_count": 6,
   "id": "04ba5f98",
   "metadata": {},
   "outputs": [],
   "source": [
    "# v -> u means v needs to be run before u\n",
    "children = lambda parent: [stage for stage in stages if any(out in deps[stage] for out in outs[parent])]\n",
    "dep_graph = {parent: children(parent) for parent in stages} "
   ]
  },
  {
   "cell_type": "code",
   "execution_count": 7,
   "id": "97c89407",
   "metadata": {},
   "outputs": [
    {
     "data": {
      "text/plain": [
       "{'subsample': ['validate-column-names'],\n",
       " 'validate-column-names': ['nullify'],\n",
       " 'nullify': ['guess-schema', 'ignore', 'assemble-database'],\n",
       " 'guess-schema': ['cgpm-schema',\n",
       "  'ignore',\n",
       "  'numericalize',\n",
       "  'save-linear-stats',\n",
       "  'xcat-complete-import',\n",
       "  'qc-dashboard-spec',\n",
       "  'qc-splom-spec',\n",
       "  'predict',\n",
       "  'prepare-publish'],\n",
       " 'cgpm-schema': ['cgpm-generate-metadata'],\n",
       " 'ignore': ['numericalize',\n",
       "  'save-linear-stats',\n",
       "  'ast-export',\n",
       "  'sppl-sample',\n",
       "  'qc-tag-samples',\n",
       "  'xcat-complete-import',\n",
       "  'predict'],\n",
       " 'numericalize': ['cgpm-generate-metadata',\n",
       "  'cgpm-infer-hyperparameters',\n",
       "  'cgpm-infer-hyperparameters-refined',\n",
       "  'xcat-complete-import'],\n",
       " 'cgpm-generate-metadata': ['cgpm-infer-hyperparameters'],\n",
       " 'cgpm-infer-hyperparameters': ['cgpm-infer-hyperparameters-refined',\n",
       "  'save-dependencies',\n",
       "  'save-max-number-views',\n",
       "  'ast-export',\n",
       "  'xcat-complete-import'],\n",
       " 'cgpm-infer-hyperparameters-refined': [],\n",
       " 'save-dependencies': ['dep-prob-vl',\n",
       "  'linear-stats-vl',\n",
       "  'compare-dep-prob-with-linear'],\n",
       " 'save-max-number-views': ['sppl-import'],\n",
       " 'dep-prob-vl': ['dep-prob-vg'],\n",
       " 'dep-prob-vg': ['dep-prob-svg'],\n",
       " 'dep-prob-svg': [],\n",
       " 'save-linear-stats': ['linear-stats-vl',\n",
       "  'compare-dep-prob-with-linear',\n",
       "  'qc-dashboard-spec',\n",
       "  'qc-splom-spec'],\n",
       " 'linear-stats-vl': ['linear-stats-vg'],\n",
       " 'linear-stats-vg': ['linear-stats-svg'],\n",
       " 'linear-stats-svg': [],\n",
       " 'compare-dep-prob-with-linear': [],\n",
       " 'ast-export': ['write-gen-programs', 'sppl-import'],\n",
       " 'write-gen-programs': [],\n",
       " 'sppl-import': ['sppl-merge'],\n",
       " 'sppl-merge': ['sppl-sample', 'prepare-publish'],\n",
       " 'sppl-sample': ['qc-tag-samples', 'predict'],\n",
       " 'qc-tag-samples': ['qc-dashboard-spec', 'qc-splom-spec'],\n",
       " 'xcat-complete-import': [],\n",
       " 'assemble-database': [],\n",
       " 'qc-dashboard-spec': ['qc-dashboard-app'],\n",
       " 'qc-dashboard-app': ['prepare-publish'],\n",
       " 'qc-splom-spec': ['qc-splom-app'],\n",
       " 'qc-splom-app': ['prepare-publish'],\n",
       " 'predict': [],\n",
       " 'prepare-publish': []}"
      ]
     },
     "execution_count": 7,
     "metadata": {},
     "output_type": "execute_result"
    }
   ],
   "source": [
    "dep_graph"
   ]
  },
  {
   "cell_type": "code",
   "execution_count": 8,
   "id": "84ff58cb",
   "metadata": {},
   "outputs": [],
   "source": [
    "qc_stages = list(filter(lambda stage: stage[:2] == 'qc', stages))"
   ]
  },
  {
   "cell_type": "code",
   "execution_count": 9,
   "id": "303bbc1a",
   "metadata": {},
   "outputs": [],
   "source": [
    "def downstream(digraph, node):\n",
    "    return set.union(set([node]), *(downstream(digraph, child) for child in digraph[node]))\n",
    "\n",
    "is_child = lambda digraph, node, other_node: node in digraph[other_node]\n",
    "\n",
    "def upstream(digraph, node):\n",
    "    parents = filter(lambda other_node: is_child(digraph, node, other_node), digraph.keys())\n",
    "    return set.union(set([node]), *(upstream(digraph, parent) for parent in parents))"
   ]
  },
  {
   "cell_type": "code",
   "execution_count": 10,
   "id": "dcec9ab3",
   "metadata": {},
   "outputs": [],
   "source": [
    "def toposort(digraph, nodes):\n",
    "    unsorted, sorted = nodes.copy(), []\n",
    "    while unsorted:\n",
    "        sink = unsorted[0]\n",
    "        while any(node in digraph[sink] for node in unsorted):\n",
    "            sink = next(node for node in unsorted if node in digraph[sink])\n",
    "        sorted.append(sink)\n",
    "        unsorted.remove(sink)\n",
    "    return list(reversed(sorted))"
   ]
  },
  {
   "cell_type": "code",
   "execution_count": 11,
   "id": "344a8283",
   "metadata": {},
   "outputs": [],
   "source": [
    "qc_upstream = set.union(*(upstream(dep_graph, qc_stage) for qc_stage in qc_stages))"
   ]
  },
  {
   "cell_type": "code",
   "execution_count": 12,
   "id": "7bb018d3",
   "metadata": {},
   "outputs": [],
   "source": [
    "cgpm_downstream = downstream(dep_graph, 'cgpm-infer-hyperparameters')"
   ]
  },
  {
   "cell_type": "code",
   "execution_count": 13,
   "id": "e2fe9680",
   "metadata": {},
   "outputs": [],
   "source": [
    "relevant_stages = list(set.intersection(qc_upstream, cgpm_downstream))"
   ]
  },
  {
   "cell_type": "code",
   "execution_count": 14,
   "id": "779b6f1d",
   "metadata": {},
   "outputs": [
    {
     "data": {
      "text/plain": [
       "['cgpm-infer-hyperparameters',\n",
       " 'save-max-number-views',\n",
       " 'ast-export',\n",
       " 'sppl-import',\n",
       " 'sppl-merge',\n",
       " 'sppl-sample',\n",
       " 'qc-tag-samples',\n",
       " 'qc-dashboard-spec',\n",
       " 'qc-dashboard-app',\n",
       " 'qc-splom-spec',\n",
       " 'qc-splom-app']"
      ]
     },
     "execution_count": 14,
     "metadata": {},
     "output_type": "execute_result"
    }
   ],
   "source": [
    "toposort(dep_graph, relevant_stages)"
   ]
  },
  {
   "cell_type": "code",
   "execution_count": 18,
   "id": "6c6f19dc",
   "metadata": {},
   "outputs": [
    {
     "data": {
      "text/plain": [
       "['subsample',\n",
       " 'validate-column-names',\n",
       " 'nullify',\n",
       " 'guess-schema',\n",
       " 'cgpm-schema',\n",
       " 'ignore',\n",
       " 'numericalize',\n",
       " 'cgpm-generate-metadata',\n",
       " 'cgpm-infer-hyperparameters',\n",
       " 'save-max-number-views',\n",
       " 'ast-export',\n",
       " 'sppl-import',\n",
       " 'sppl-merge',\n",
       " 'save-linear-stats',\n",
       " 'sppl-sample',\n",
       " 'qc-tag-samples',\n",
       " 'qc-dashboard-spec']"
      ]
     },
     "execution_count": 18,
     "metadata": {},
     "output_type": "execute_result"
    }
   ],
   "source": [
    "toposort(dep_graph, list(upstream(dep_graph, 'qc-dashboard-spec')))"
   ]
  },
  {
   "cell_type": "code",
   "execution_count": null,
   "id": "b0bab54f",
   "metadata": {},
   "outputs": [],
   "source": []
  }
 ],
 "metadata": {
  "kernelspec": {
   "display_name": "Python 3 (ipykernel)",
   "language": "python",
   "name": "python3"
  },
  "language_info": {
   "codemirror_mode": {
    "name": "ipython",
    "version": 3
   },
   "file_extension": ".py",
   "mimetype": "text/x-python",
   "name": "python",
   "nbconvert_exporter": "python",
   "pygments_lexer": "ipython3",
   "version": "3.9.13"
  }
 },
 "nbformat": 4,
 "nbformat_minor": 5
}
