{
 "cells": [
  {
   "cell_type": "code",
   "execution_count": 1,
   "id": "f2731e48",
   "metadata": {},
   "outputs": [],
   "source": [
    "import cgpm.utils.general as general\n",
    "import json\n",
    "import itertools\n",
    "import pandas as pd\n",
    "import yaml\n",
    "import numpy as np\n",
    "import copy\n",
    "from cgpm.crosscat.state import State"
   ]
  },
  {
   "cell_type": "code",
   "execution_count": 2,
   "id": "7b01d0f2",
   "metadata": {},
   "outputs": [],
   "source": [
    "import matplotlib.pyplot as plt\n",
    "import scipy"
   ]
  },
  {
   "cell_type": "code",
   "execution_count": 3,
   "id": "b0e4c20a",
   "metadata": {},
   "outputs": [],
   "source": [
    "with open('data/cgpm/complete/sample.0.json') as unrefined_metadata_file:\n",
    "    unrefined_metadata = json.load(unrefined_metadata_file)\n",
    "\n",
    "with open('data/cgpm/refined/sample.0.json') as refined_metadata_file:\n",
    "    refined_metadata = json.load(refined_metadata_file)\n",
    "\n",
    "with open('data/numericalized.csv') as data_file:\n",
    "    df = pd.read_csv(data_file)"
   ]
  },
  {
   "cell_type": "code",
   "execution_count": 4,
   "id": "661b11fd",
   "metadata": {},
   "outputs": [],
   "source": [
    "columns_transition = [i for i in range(df.shape[1])]"
   ]
  },
  {
   "cell_type": "code",
   "execution_count": 5,
   "id": "9207a7d5",
   "metadata": {},
   "outputs": [],
   "source": [
    "none_to_nan = lambda x: float('nan') if x is None else x\n",
    "list_fmap = lambda f: lambda xs: list(map(f, xs))"
   ]
  },
  {
   "cell_type": "code",
   "execution_count": 6,
   "id": "91064108",
   "metadata": {},
   "outputs": [],
   "source": [
    "def refine_crp_hyper_grids(state, n=30):\n",
    "    final_hyper = state.crp.hypers['alpha']\n",
    "    new_grid = np.linspace(0.80 * final_hyper, 1.2 * final_hyper, n)\n",
    "    state.crp.hyper_grids['alpha'] = new_grid\n",
    "\n",
    "def refine_view_hyper_grids(state, cols, n=30):\n",
    "    for idx, view in state.views.items():\n",
    "        final_hyper = view.crp.hypers['alpha']\n",
    "        new_grid = np.linspace(0.80 * final_hyper, 1.2 * final_hyper, n)\n",
    "        state.views[idx].crp.hyper_grids['alpha'] = new_grid\n",
    "\n",
    "def refine_dim_hyper_grids(state, cols, n=30):\n",
    "    for col in cols:\n",
    "        final_hypers = state.dim_for(col).hypers\n",
    "        for name, val in final_hypers.items():\n",
    "            new_grid = np.linspace(0.80 * val, 1.2 * val, n) \n",
    "            state.dim_for(col).hyper_grids[name] = new_grid"
   ]
  },
  {
   "cell_type": "code",
   "execution_count": 7,
   "id": "ecb36fe7",
   "metadata": {},
   "outputs": [],
   "source": [
    "def have_same_hyper_grids(x, y):\n",
    "    assert x.hyper_grids.keys() == y.hyper_grids.keys()\n",
    "    return all(all(x.hyper_grids[param] == y.hyper_grids[param]) for param in x.hyper_grids.keys())"
   ]
  },
  {
   "cell_type": "code",
   "execution_count": 8,
   "id": "2fb684d7",
   "metadata": {},
   "outputs": [],
   "source": [
    "def have_same_crp_hyper_grids(s1, s2):\n",
    "    return have_same_hyper_grids(s1.crp, s2.crp)\n",
    "\n",
    "def have_same_view_hyper_grids(s1, s2):\n",
    "    assert s1.views.keys() == s2.views.keys()\n",
    "    return all(have_same_crp_hyper_grids(s1.views[i], s2.views[i]) for i in s1.views.keys())\n",
    "\n",
    "def have_same_dim_hyper_grids(s1, s2, cols):\n",
    "    return all(have_same_hyper_grids(s1.dim_for(col), s2.dim_for(col)) for col in cols)"
   ]
  },
  {
   "cell_type": "code",
   "execution_count": 9,
   "id": "3d22ce82",
   "metadata": {},
   "outputs": [],
   "source": [
    "def have_same_overall_hyper_grids(s1, s2, cols):\n",
    "    return all([have_same_crp_hyper_grids(s1, s2),\n",
    "                have_same_view_hyper_grids(s1, s2),\n",
    "                have_same_dim_hyper_grids(s1, s2, cols)])"
   ]
  },
  {
   "cell_type": "code",
   "execution_count": 10,
   "id": "1d1e2324",
   "metadata": {},
   "outputs": [],
   "source": [
    "unrefined_metadata['X'] = list_fmap(list_fmap(none_to_nan))(unrefined_metadata['X'])\n",
    "refined_metadata['X'] = list_fmap(list_fmap(none_to_nan))(refined_metadata['X'])"
   ]
  },
  {
   "cell_type": "code",
   "execution_count": 11,
   "id": "201bf779",
   "metadata": {},
   "outputs": [],
   "source": [
    "unrefined_model = State.from_metadata(unrefined_metadata)\n",
    "refined_model = State.from_metadata(refined_metadata)"
   ]
  },
  {
   "cell_type": "code",
   "execution_count": 12,
   "id": "fc718bd3",
   "metadata": {},
   "outputs": [
    {
     "data": {
      "text/plain": [
       "True"
      ]
     },
     "execution_count": 12,
     "metadata": {},
     "output_type": "execute_result"
    }
   ],
   "source": [
    "have_same_overall_hyper_grids(unrefined_model, refined_model, columns_transition)"
   ]
  },
  {
   "cell_type": "markdown",
   "id": "d06f7cb2",
   "metadata": {},
   "source": [
    "The above cell is `True` because when CGPM creates a state from a metadata file it sets the hyper-parameter grids to pre-defined default values. The following cells are there so we can check that after we refine these grids, the parameter update moves do not change them back to their default values."
   ]
  },
  {
   "cell_type": "code",
   "execution_count": 13,
   "id": "4aef3d3d",
   "metadata": {},
   "outputs": [],
   "source": [
    "# unrefined_model.crp.hyper_grids"
   ]
  },
  {
   "cell_type": "code",
   "execution_count": 14,
   "id": "39d79dd1",
   "metadata": {},
   "outputs": [],
   "source": [
    "# refine_crp_hyper_grids(unrefined_model)\n",
    "# unrefined_model.crp.hyper_grids"
   ]
  },
  {
   "cell_type": "code",
   "execution_count": 15,
   "id": "326f6005",
   "metadata": {},
   "outputs": [],
   "source": [
    "# refined_model.crp.hypers, unrefined_model.crp.hypers"
   ]
  },
  {
   "cell_type": "code",
   "execution_count": 16,
   "id": "0ed48e11",
   "metadata": {},
   "outputs": [],
   "source": [
    "# refined_model.views[2].crp.hypers, unrefined_model.views[2].crp.hypers"
   ]
  },
  {
   "cell_type": "code",
   "execution_count": 17,
   "id": "23ea8b79",
   "metadata": {},
   "outputs": [],
   "source": [
    "# unrefined_model.dim_for(0).hyper_grids"
   ]
  },
  {
   "cell_type": "code",
   "execution_count": 18,
   "id": "521daf18",
   "metadata": {},
   "outputs": [],
   "source": [
    "# [(refined_model.dim_for(c).hypers, unrefined_model.dim_for(c).hypers) for c in columns_transition]"
   ]
  },
  {
   "cell_type": "code",
   "execution_count": 19,
   "id": "2b3f95d5",
   "metadata": {},
   "outputs": [],
   "source": [
    "refine_crp_hyper_grids(refined_model)   \n",
    "refine_view_hyper_grids(refined_model, columns_transition)\n",
    "refine_dim_hyper_grids(refined_model, columns_transition)"
   ]
  },
  {
   "cell_type": "code",
   "execution_count": 20,
   "id": "34942e62",
   "metadata": {},
   "outputs": [
    {
     "data": {
      "text/plain": [
       "False"
      ]
     },
     "execution_count": 20,
     "metadata": {},
     "output_type": "execute_result"
    }
   ],
   "source": [
    "have_same_overall_hyper_grids(unrefined_model, refined_model, columns_transition)"
   ]
  },
  {
   "cell_type": "code",
   "execution_count": 21,
   "id": "72c06080",
   "metadata": {},
   "outputs": [],
   "source": [
    "refined_model.transition_crp_alpha()"
   ]
  },
  {
   "cell_type": "code",
   "execution_count": 22,
   "id": "a39a7fb7",
   "metadata": {},
   "outputs": [
    {
     "data": {
      "text/plain": [
       "False"
      ]
     },
     "execution_count": 22,
     "metadata": {},
     "output_type": "execute_result"
    }
   ],
   "source": [
    "have_same_crp_hyper_grids(refined_model, unrefined_model)"
   ]
  },
  {
   "cell_type": "code",
   "execution_count": 23,
   "id": "ad69fb67",
   "metadata": {},
   "outputs": [
    {
     "data": {
      "text/plain": [
       "False"
      ]
     },
     "execution_count": 23,
     "metadata": {},
     "output_type": "execute_result"
    }
   ],
   "source": [
    "have_same_overall_hyper_grids(unrefined_model, refined_model, columns_transition)"
   ]
  },
  {
   "cell_type": "code",
   "execution_count": 24,
   "id": "6b5f7d2e",
   "metadata": {},
   "outputs": [],
   "source": [
    "# refined_model.crp.hyper_grids['alpha'], unrefined_model.crp.hyper_grids['alpha']"
   ]
  },
  {
   "cell_type": "code",
   "execution_count": 25,
   "id": "1b01fa9b",
   "metadata": {},
   "outputs": [],
   "source": [
    "refined_model.transition_view_alphas(views=None, cols=columns_transition)"
   ]
  },
  {
   "cell_type": "code",
   "execution_count": 26,
   "id": "2ddd95da",
   "metadata": {},
   "outputs": [
    {
     "data": {
      "text/plain": [
       "False"
      ]
     },
     "execution_count": 26,
     "metadata": {},
     "output_type": "execute_result"
    }
   ],
   "source": [
    "have_same_view_hyper_grids(unrefined_model, refined_model)"
   ]
  },
  {
   "cell_type": "code",
   "execution_count": 27,
   "id": "e7a401d5",
   "metadata": {},
   "outputs": [
    {
     "data": {
      "text/plain": [
       "False"
      ]
     },
     "execution_count": 27,
     "metadata": {},
     "output_type": "execute_result"
    }
   ],
   "source": [
    "have_same_overall_hyper_grids(unrefined_model, refined_model, columns_transition)"
   ]
  },
  {
   "cell_type": "code",
   "execution_count": 28,
   "id": "2af9d032",
   "metadata": {},
   "outputs": [],
   "source": [
    "refined_model.transition_dim_hypers(cols=columns_transition)"
   ]
  },
  {
   "cell_type": "code",
   "execution_count": 29,
   "id": "a305155e",
   "metadata": {},
   "outputs": [
    {
     "data": {
      "text/plain": [
       "False"
      ]
     },
     "execution_count": 29,
     "metadata": {},
     "output_type": "execute_result"
    }
   ],
   "source": [
    "have_same_dim_hyper_grids(unrefined_model, refined_model, columns_transition)"
   ]
  },
  {
   "cell_type": "code",
   "execution_count": 30,
   "id": "d1a8c9ed",
   "metadata": {},
   "outputs": [
    {
     "data": {
      "text/plain": [
       "False"
      ]
     },
     "execution_count": 30,
     "metadata": {},
     "output_type": "execute_result"
    }
   ],
   "source": [
    "have_same_overall_hyper_grids(unrefined_model, refined_model, columns_transition)"
   ]
  },
  {
   "cell_type": "code",
   "execution_count": 31,
   "id": "a81fd896",
   "metadata": {},
   "outputs": [],
   "source": [
    "refined_model.transition_view_rows(views=None, cols=columns_transition, rows=None)"
   ]
  },
  {
   "cell_type": "code",
   "execution_count": 32,
   "id": "5152528d",
   "metadata": {},
   "outputs": [
    {
     "data": {
      "text/plain": [
       "False"
      ]
     },
     "execution_count": 32,
     "metadata": {},
     "output_type": "execute_result"
    }
   ],
   "source": [
    "have_same_overall_hyper_grids(unrefined_model, refined_model, columns_transition)"
   ]
  },
  {
   "cell_type": "code",
   "execution_count": 33,
   "id": "094c8566",
   "metadata": {},
   "outputs": [],
   "source": [
    "refined_model.transition_dims(cols=columns_transition)"
   ]
  },
  {
   "cell_type": "code",
   "execution_count": 34,
   "id": "dc492ed3",
   "metadata": {},
   "outputs": [
    {
     "data": {
      "text/plain": [
       "False"
      ]
     },
     "execution_count": 34,
     "metadata": {},
     "output_type": "execute_result"
    }
   ],
   "source": [
    "have_same_dim_hyper_grids(unrefined_model, refined_model, columns_transition)"
   ]
  },
  {
   "cell_type": "code",
   "execution_count": 35,
   "id": "01612ca3",
   "metadata": {},
   "outputs": [
    {
     "data": {
      "text/plain": [
       "False"
      ]
     },
     "execution_count": 35,
     "metadata": {},
     "output_type": "execute_result"
    }
   ],
   "source": [
    "have_same_overall_hyper_grids(unrefined_model, refined_model, columns_transition)"
   ]
  }
 ],
 "metadata": {
  "kernelspec": {
   "display_name": "Python 3 (ipykernel)",
   "language": "python",
   "name": "python3"
  },
  "language_info": {
   "codemirror_mode": {
    "name": "ipython",
    "version": 3
   },
   "file_extension": ".py",
   "mimetype": "text/x-python",
   "name": "python",
   "nbconvert_exporter": "python",
   "pygments_lexer": "ipython3",
   "version": "3.9.13"
  }
 },
 "nbformat": 4,
 "nbformat_minor": 5
}
